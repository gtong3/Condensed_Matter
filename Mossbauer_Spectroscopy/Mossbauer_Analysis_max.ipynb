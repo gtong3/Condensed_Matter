{
 "cells": [
  {
   "cell_type": "markdown",
   "metadata": {},
   "source": [
    "# Individual Analysis for the M&ouml;ssbauer experiment\n",
    "\n",
    "## Results-only analysis template\n",
    "\n",
    "**This template walks through the analysis of the results starting from the peak positions and widths of the raw MCA spectrum files, usually obtained with the LabVIEW program that reads the data from the Norland MCA, along with associated velocity transducer measurements for each sample.  If you wish to carry out a full fit of the multi-peak spectrum plus background, you should use the *Mossbauer Full Analysis* template.**\n",
    "\n",
    "Use this template to carry out analysis of the spectrum results fro the M&ouml;ssbauer experiment.  You will need to have a spreadsheet file containing the peak positions and number for each spectrum.  You will also need to know the peak-to-peak amplitude of the velocity transducer output for each spectrum.\n",
    "\n",
    "For reference, here are links to recommended Python resources: the [Whirlwind Tour of Python](https://jakevdp.github.io/WhirlwindTourOfPython/) and the [Python Data Science Handbook](https://jakevdp.github.io/PythonDataScienceHandbook/) both by Jake VanderPlas.\n",
    "\n",
    "We will use the [Uncertainties](https://pythonhosted.org/uncertainties/) package in this notebook."
   ]
  },
  {
   "cell_type": "code",
   "execution_count": 1,
   "metadata": {},
   "outputs": [],
   "source": [
    "import numpy as np  # import the numpy library functions.\n",
    "import matplotlib.pyplot as plt # plotting functions\n",
    "import uncertainties as unc # Uncertainties package.  Good for simple error propagation\n",
    "import scipy.constants as const\n",
    "import pandas as pd\n",
    "%matplotlib inline"
   ]
  },
  {
   "cell_type": "markdown",
   "metadata": {},
   "source": [
    "### Tasks for this analysis\n",
    "\n",
    "For each spectrum:\n",
    "\n",
    "1. Use the peak-to-peak amplitude from the velocity transducer and to create a calibration function (a line).  You will need the function generator period and MCS dwell time.  The function should return a velocity in mm/s given a channel number.  Negative velocities should indicate negative energy shifts, and positive velocities should indicate positive energy shifts.\n",
    "\n",
    "2. Apply your calibration function to the peak-position data sets for all spectral peaks. Record these results in tables, one table for each sample.  You want an ordered table of absorption peaks in units of mm/s.  Recommended: Make a DataFrame.\n",
    "\n",
    "3. Then run the following calculations, depending on your samples\n",
    "    * For **enriched iron &amp; natural iron**: Calculate (1) the isomer shift in mm/s, (2) the magnitide of the internal magnetic field in tesla and (3) the magnitude of the magnetic moment of the excited state in units of the nuclear magneton.  Compare values to expected results.\n",
    "\n",
    "    * For **sodium nitroprusside**: Calculate (1) the isomer shift in mm/s, (2) the quadrupole splitting in mm/s. Then calculate the isomer shift compared to enriched Fe. Compare your value to expected results.\n",
    "\n",
    "    * For **stainless steel**: Calculate (1) the isomer shift in mm/s of the single peak.  Then calculate the isomer shift realtive to enriched Fe.  Compare your value to the expected result.  Also calculate the peak width in velocity units to compare to the peak widths for enriched Fe and discuss whether you see evidence of a weak internal field (as opposed to zero internal field).\n",
    "    \n",
    "    * For **hematite**: Calculate all the folowing in mm/s: (1) the isomer shift relative to enriched Fe, (2) the splitting in the ground state, (3) the splitting in the excited state, (4) the quanrupole energy.  Then calculate the magnetic field magnitude in tesla. \n"
   ]
  },
  {
   "cell_type": "markdown",
   "metadata": {},
   "source": [
    "## Read in your results\n",
    "\n",
    "Recommended: Make a CSV file for each sample.  The top row should have labels `'Pos'`, `'Pos_unc'`, `'Width'`, and `'Width_unc'`. Each row should be the data for a different peak number in the spectrum. Then create a DataFrame with uncertainty objects that combine the position and uncertainty values for each peak.\n",
    "\n",
    "Use the **Pandas** `read_csv()` function to read the CSV file:\n",
    "\n",
    "    Fe = pd.read_csv('enriched_Fe_peaks.csv')\n",
    "    \n",
    "The dataframe will be named `Fe`  with columns `Fe['Pos']`, `Fe['Pos_unc']`, `Fe['Width']`, `Fe['Width_unc']`. "
   ]
  },
  {
   "cell_type": "code",
   "execution_count": 73,
   "metadata": {},
   "outputs": [
    {
     "data": {
      "text/html": [
       "<div>\n",
       "<style scoped>\n",
       "    .dataframe tbody tr th:only-of-type {\n",
       "        vertical-align: middle;\n",
       "    }\n",
       "\n",
       "    .dataframe tbody tr th {\n",
       "        vertical-align: top;\n",
       "    }\n",
       "\n",
       "    .dataframe thead th {\n",
       "        text-align: right;\n",
       "    }\n",
       "</style>\n",
       "<table border=\"1\" class=\"dataframe\">\n",
       "  <thead>\n",
       "    <tr style=\"text-align: right;\">\n",
       "      <th></th>\n",
       "      <th>Pos</th>\n",
       "      <th>Pos_unc</th>\n",
       "      <th>Width</th>\n",
       "      <th>Width_unc</th>\n",
       "    </tr>\n",
       "  </thead>\n",
       "  <tbody>\n",
       "    <tr>\n",
       "      <th>0</th>\n",
       "      <td>143.083151</td>\n",
       "      <td>0.000411</td>\n",
       "      <td>9.356082</td>\n",
       "      <td>0.000589</td>\n",
       "    </tr>\n",
       "    <tr>\n",
       "      <th>1</th>\n",
       "      <td>294.024709</td>\n",
       "      <td>0.000429</td>\n",
       "      <td>9.393148</td>\n",
       "      <td>0.000615</td>\n",
       "    </tr>\n",
       "    <tr>\n",
       "      <th>2</th>\n",
       "      <td>446.305774</td>\n",
       "      <td>0.000442</td>\n",
       "      <td>4.910503</td>\n",
       "      <td>0.000629</td>\n",
       "    </tr>\n",
       "    <tr>\n",
       "      <th>3</th>\n",
       "      <td>560.178525</td>\n",
       "      <td>0.000469</td>\n",
       "      <td>5.179656</td>\n",
       "      <td>0.000667</td>\n",
       "    </tr>\n",
       "    <tr>\n",
       "      <th>4</th>\n",
       "      <td>712.988996</td>\n",
       "      <td>0.000403</td>\n",
       "      <td>9.021720</td>\n",
       "      <td>0.000577</td>\n",
       "    </tr>\n",
       "    <tr>\n",
       "      <th>5</th>\n",
       "      <td>866.987314</td>\n",
       "      <td>0.000439</td>\n",
       "      <td>10.150513</td>\n",
       "      <td>0.000631</td>\n",
       "    </tr>\n",
       "  </tbody>\n",
       "</table>\n",
       "</div>"
      ],
      "text/plain": [
       "          Pos   Pos_unc      Width  Width_unc\n",
       "0  143.083151  0.000411   9.356082   0.000589\n",
       "1  294.024709  0.000429   9.393148   0.000615\n",
       "2  446.305774  0.000442   4.910503   0.000629\n",
       "3  560.178525  0.000469   5.179656   0.000667\n",
       "4  712.988996  0.000403   9.021720   0.000577\n",
       "5  866.987314  0.000439  10.150513   0.000631"
      ]
     },
     "execution_count": 73,
     "metadata": {},
     "output_type": "execute_result"
    }
   ],
   "source": [
    "# Inverted Lorentzian peak equation: a*c^2/((x-b)^2+c^2)+d\n",
    "# b = peak position (channel), c = peak width, a = peak height, d = baseline\n",
    "Enriched_Fe = pd.read_csv('Enriched_Fe_Peaks.csv')\n",
    "Fe2O3 = pd.read_csv('Hematite_Peaks.csv') # AKA Hematite\n",
    "Natural_Fe = pd.read_csv('Natural_Fe_Peaks.csv') # 0.001 inches\n",
    "SNP = pd.read_csv('SNP_Peaks.csv')\n",
    "Stainless_Steel = pd.read_csv('Stainless_Steel_Peaks.csv')\n",
    "\n",
    "# Print a table by just entering the name of the dataframe:\n",
    "Enriched_Fe\n",
    "\n",
    "# Creation of uncertainty objects\n"
   ]
  },
  {
   "cell_type": "markdown",
   "metadata": {},
   "source": [
    "## Calibrate the data sets\n",
    "\n",
    "### Create the calibration function(s)\n",
    "\n",
    "Think carefully about the motion of the source: where is it at the begining of the scan?  which direction is it moving? \n",
    "\n",
    "Think carefully about the dwell time and how long an MCS cycle takes.  (One cycle is a run through all channels.)  At which channel is the velocity zero?  Which channel would have the highest velocity forward and which would have the highest velocity in reverse.  Once you know this, you create a line that interpolates between these points. \n",
    "\n",
    "If you have not already converted channel numbers to mm/s values using the velocity transducer conversion factor and the peak-to-peak amplitude of the velocity transducer signal, do this below."
   ]
  },
  {
   "cell_type": "code",
   "execution_count": 74,
   "metadata": {},
   "outputs": [
    {
     "data": {
      "text/plain": [
       "73.86"
      ]
     },
     "execution_count": 74,
     "metadata": {},
     "output_type": "execute_result"
    }
   ],
   "source": [
    "# Python \"dictionary\" to hold the peak-to-peak velocity transducer readings, in mV\n",
    "\n",
    "Vpp = {'Enriched_Fe':49.37, 'SNP':24.09, 'Fe2O3':73.86, 'Stainless_Steel':14.86,'Natural_Fe':48.64}\n",
    "\n",
    "Vpp['Fe2O3']  # Should print the value for the labeled sample\n"
   ]
  },
  {
   "cell_type": "markdown",
   "metadata": {},
   "source": [
    "#### Write the calibration function\n",
    "\n",
    "Fill in the details below."
   ]
  },
  {
   "cell_type": "code",
   "execution_count": 115,
   "metadata": {},
   "outputs": [
    {
     "name": "stdout",
     "output_type": "stream",
     "text": [
      "Velocity at channel 50 = 6.54585 mm/s\n",
      "Energy shift at channel 50 = 3.1441e-07 eV\n",
      "Now back to velocity:  6.53994508211118 mm/s\n"
     ]
    }
   ],
   "source": [
    "### GLOBAL VARS\n",
    "c=2.998E11   # speed of light in mm/s\n",
    "\n",
    "### CALIBRATION FUNCTIONS\n",
    "###\n",
    "### channel # to velocity\n",
    "def velocity_cal(chan, Vpp, conv=0.295, dwell=5.0e-4, period=1.00):\n",
    "    '''\n",
    "    Velocity calibration function.  Converts channel number 'chan' to velocity with sign\n",
    "    based on the measured peak-to-peak voltage from the velocity transducer 'Vpp' (in mV),\n",
    "    the transducer conversion constant 'conv' (in (mm/s)/mV), the channel dwell time \n",
    "    'dwell' (in s), and the drive period 'period' (in s).  \n",
    "    '''\n",
    "    intercept = Vpp * conv/2\n",
    "    slope = -Vpp * conv/999\n",
    "\n",
    "    return(intercept + slope*(chan+0.5)) # slight correction to place velocity at middle of dwell time (1/2 channel)\n",
    "\n",
    "### channel # to energy shift\n",
    "def energy_cal(E_src, chan, Vpp, conv=0.295, dwell=5.0e-4, period=1.00):\n",
    "    '''\n",
    "    Energy calibration function.  Converts channel number 'chan' to energy shift between emitted photon\n",
    "    and absorbed photon\n",
    "    '''\n",
    "\n",
    "    e_shift = E_src*(1/c)*(velocity_cal(chan, Vpp, conv=0.295, dwell=5.0e-4, period=1.00))\n",
    "    \n",
    "    return e_shift\n",
    "\n",
    "### energy shift value (in eV) to source velocity (in mm/s)\n",
    "def energy2velocity(E_shift, E_src=14413):\n",
    "    return c*(E_shift/E_src)\n",
    "\n",
    "# Test your function as follows\n",
    "\n",
    "a_channel = 50\n",
    "print(\"Velocity at channel {} = {:4g} mm/s\".format(a_channel, velocity_cal(a_channel,Vpp=Vpp['Enriched_Fe'])))\n",
    "\n",
    "E_ch50=energy_cal(14.4E3, a_channel,Vpp=Vpp['Enriched_Fe'])\n",
    "print(\"Energy shift at channel {} = {:4g} eV\".format(a_channel, E_ch50))\n",
    "print(\"Now back to velocity: \", energy2velocity(E_ch50), \"mm/s\")\n"
   ]
  },
  {
   "cell_type": "code",
   "execution_count": null,
   "metadata": {},
   "outputs": [],
   "source": [
    "# Plots of full spectra after conversion to velocity instead of channels\n",
    "Fe_Enriched_full = pd.read_csv('Full_Spectras/Enriched_57_Fe.csv',delimiter='\\t')\n",
    "Fe2O3_full = pd.read_csv('Full_Spectras/Hematite.csv',delimiter='\\t')\n",
    "Fe_Natural_full = pd.read_csv('Full_Spectras/Natural_Fe_0.001in.csv',delimiter='\\t')\n",
    "SNP_full = pd.read_csv('Full_Spectras/SNP.csv',delimiter='\\t')\n",
    "Stainless_Steel_full = pd.read_csv('Full_Spectras/Stainless_Steel.csv',delimiter='\\t')\n",
    "\n",
    "def plotter(material,select_Vpp,title):\n",
    "    plt.plot(velocity_cal(material['Channel'],select_Vpp),material['Count'])\n",
    "    plt.title(f'{title} Spectrum')\n",
    "    plt.xlabel('Velocity (mm/s)')\n",
    "    plt.ylabel('Count')\n",
    "    plt.grid()\n",
    "    plt.show()\n",
    "\n",
    "plotter(Fe_Enriched_full,Vpp['Enriched_Fe'],'Enriched Fe')\n",
    "plotter(Fe2O3_full,Vpp['Fe2O3'],'Hematite')\n",
    "plotter(Fe_Natural_full,Vpp['Natural_Fe'],'Natural Fe')\n",
    "plotter(SNP_full,Vpp['SNP'],'Sodium nitroprusside')\n",
    "plotter(Stainless_Steel_full,Vpp['Stainless_Steel'],'Stainless steel')"
   ]
  },
  {
   "cell_type": "markdown",
   "metadata": {},
   "source": [
    "### Create columns with uncertainty objects\n",
    "\n",
    "The code in [Examples](https://github.com/Physics431/Examples) shows how to build \"uncertainty\" objects and how to calculate with them. \n",
    "\n",
    "Something like this should work:\n",
    "\n",
    "    from uncertainties import unumpy\n",
    "    \n",
    "    Fe['u_pos'] = unumpy.uarray(Fe['Pos'],Fe['Pos_unc'])\n",
    "\n",
    "This will add another column that combines the position and its uncertainty into a single array in its own column within the dataframe.  \n",
    "\n",
    "### Convert the uncertainty object column from channels to velocities (with uncertainty)\n",
    "\n",
    "If your calibration function only uses standard mathematical operators, you can feed this column through the calibration function to obtain the peak prositions and their uncertainty in units of mm/s. the **Uncertainties** package will propagate the uncertainty for you.  "
   ]
  },
  {
   "cell_type": "code",
   "execution_count": 82,
   "metadata": {},
   "outputs": [
    {
     "data": {
      "text/html": [
       "<div>\n",
       "<style scoped>\n",
       "    .dataframe tbody tr th:only-of-type {\n",
       "        vertical-align: middle;\n",
       "    }\n",
       "\n",
       "    .dataframe tbody tr th {\n",
       "        vertical-align: top;\n",
       "    }\n",
       "\n",
       "    .dataframe thead th {\n",
       "        text-align: right;\n",
       "    }\n",
       "</style>\n",
       "<table border=\"1\" class=\"dataframe\">\n",
       "  <thead>\n",
       "    <tr style=\"text-align: right;\">\n",
       "      <th></th>\n",
       "      <th>Pos</th>\n",
       "      <th>Pos_unc</th>\n",
       "      <th>Width</th>\n",
       "      <th>Width_unc</th>\n",
       "      <th>u_pos</th>\n",
       "    </tr>\n",
       "  </thead>\n",
       "  <tbody>\n",
       "    <tr>\n",
       "      <th>0</th>\n",
       "      <td>430.663291</td>\n",
       "      <td>0.000046</td>\n",
       "      <td>13.115068</td>\n",
       "      <td>0.000068</td>\n",
       "      <td>430.66329+/-0.00005</td>\n",
       "    </tr>\n",
       "    <tr>\n",
       "      <th>1</th>\n",
       "      <td>664.858545</td>\n",
       "      <td>0.000050</td>\n",
       "      <td>13.490171</td>\n",
       "      <td>0.000074</td>\n",
       "      <td>664.85855+/-0.00005</td>\n",
       "    </tr>\n",
       "  </tbody>\n",
       "</table>\n",
       "</div>"
      ],
      "text/plain": [
       "          Pos   Pos_unc      Width  Width_unc                u_pos\n",
       "0  430.663291  0.000046  13.115068   0.000068  430.66329+/-0.00005\n",
       "1  664.858545  0.000050  13.490171   0.000074  664.85855+/-0.00005"
      ]
     },
     "execution_count": 82,
     "metadata": {},
     "output_type": "execute_result"
    }
   ],
   "source": [
    "from uncertainties import unumpy\n",
    "\n",
    "Enriched_Fe['u_pos'] = unumpy.uarray(Enriched_Fe['Pos'],Enriched_Fe['Pos_unc'])\n",
    "SNP['u_pos'] = unumpy.uarray(SNP['Pos'],SNP['Pos_unc'])\n",
    "Fe2O3['u_pos'] = unumpy.uarray(Fe2O3['Pos'],Fe2O3['Pos_unc'])\n",
    "Stainless_Steel['u_pos'] = unumpy.uarray(Stainless_Steel['Pos'],Stainless_Steel['Pos_unc'])\n",
    "Natural_Fe['u_pos'] = unumpy.uarray(Natural_Fe['Pos'],Natural_Fe['Pos_unc'])\n",
    "\n",
    "SNP"
   ]
  },
  {
   "cell_type": "markdown",
   "metadata": {},
   "source": [
    "## Analyze each spectrum\n",
    "\n",
    "Depending on your sample set, choose the appropriate set of tasks below.\n",
    "\n",
    "### Enriched iron & natural iron\n",
    "\n",
    "1. Start with isomer shift $\\delta$. This is just the average of all peak locations. The number would be relative to the source Co-57/Rh\n",
    "\n",
    "2. Next calculate the magnetic field $B$ and excited-state moment $\\mu_e$ from the enriched-foil data.  \n",
    "\n",
    "For the field, we first need the transitions that start from different ground states and end at the same excited states.  There are two pairs of these, one pair ends at -1/2: peaks 2 & 4, and the other ends at +1/2, peaks 1 and 3. The differences between these will give $\\mu_gB$.  From this get $B$ with $\\mu_g = +0.09062\\mu_n$ where $\\mu_n = 3.1525\\times10^{-8}$ eV/T \n",
    "\n",
    "You will need to convert to energy with Doppler formula\n",
    "$$\\frac{\\Delta E}{E} = \\frac{v}{c}$$\n",
    "where $E = 14.412497$ keV.\n",
    "\n",
    "To get the excited state moment, you will need the excited state splitting. These pairs that start at the same ground state but end at different excited states: peaks 0-1, 1-2, 3-4, and 4-5.\n",
    "\n",
    "3. From this calculate the excited state moment $\\mu_e$, and compare to $-0.1549\\mu_n$. \n",
    "\n",
    "4. Repeat the above for any other natural iron samples you may have. (Don't forget to apply the correct calibration constant for each one.)"
   ]
  },
  {
   "cell_type": "code",
   "execution_count": 77,
   "metadata": {},
   "outputs": [
    {
     "name": "stdout",
     "output_type": "stream",
     "text": [
      "The isomer shift for enriched Fe:  (-3.45398+/-0.00012)e-09 eV\n",
      "or:  -0.0718451+/-0.0000026 mm/s\n",
      "Removing isomer shift, the energy shifts (delta_E_abs - delta_E_shift) due to magnetic splitting alone are:\n",
      "\n",
      "(2.5290826+/-0.0000012)e-07 eV\n",
      "(1.4711665+/-0.0000012)e-07 eV\n",
      "(4.038620+/-0.000012)e-08 eV\n",
      "(-3.942470+/-0.000012)e-08 eV\n",
      "(-1.4652619+/-0.0000012)e-07 eV\n",
      "(-2.5446022+/-0.0000012)e-07 eV\n",
      "\n",
      "Peaks 2 and 4 begin at the same ground level, and their difference is:  (-1.869123968350429+/-0)e-07 eV\n",
      "plugging in their quantum numbers and the known value ug, B is:  32.648705136462695+/-0 T\n",
      "\n",
      "Peaks 4 and 5 end at the same excited state. We used this and our B value to calculate ue:  (-4.958881016419112+/-0)e-09 eV/T\n",
      "We then took the ratio ue/un:  -0.15729995293954363+/-0 . This very close to the expected value.\n"
     ]
    }
   ],
   "source": [
    "peak_avg = np.average(Enriched_Fe['u_pos'])\n",
    "E_src = 14413                    # eV\n",
    "Vpp_EnrFe = Vpp['Enriched_Fe']   # mV\n",
    "un=3.1525E-8                     # eV/T\n",
    "ug=0.09062*un                    # eV/T\n",
    "\n",
    "isoshift_Fe=energy_cal(E_src, peak_avg, Vpp_EnrFe)\n",
    "isoshift_Fe_mms=velocity_cal(peak_avg, Vpp_EnrFe)\n",
    "print(\"The isomer shift for enriched Fe: \", isoshift_Fe, \"eV\")\n",
    "print(\"or: \", isoshift_Fe_mms, \"mm/s\")\n",
    "\n",
    "print(\"Removing isomer shift, the energy shifts (delta_E_abs - delta_E_shift) due to magnetic splitting alone are:\")\n",
    "adjusted_peaks=energy_cal(E_src, Enriched_Fe['Pos'], Vpp_EnrFe) - isoshift_Fe\n",
    "\n",
    "print(\"\")\n",
    "for i in range(6):\n",
    "    print(adjusted_peaks[i], \"eV\")\n",
    "\n",
    "delta_shift_24=adjusted_peaks[4]-adjusted_peaks[2]\n",
    "print(\"\\nPeaks 2 and 4 begin at the same ground level, and their difference is: \", delta_shift_24, \"eV\")\n",
    "\n",
    "B_EnrFe = -delta_shift_23/(2*ug)\n",
    "print(\"plugging in their quantum numbers and the known value ug, B is: \", B_EnrFe, \"T\")\n",
    "\n",
    "delta_shift_45=adjusted_peaks[5]-adjusted_peaks[4]\n",
    "ue=(delta_shift_45/B_EnrFe)*(3/2)\n",
    "print(\"\\nPeaks 4 and 5 end at the same excited state. We used this and our B value to calculate ue: \", ue, \"eV/T\")\n",
    "print(\"We then took the ratio ue/un: \", ue/un, \". This very close to the expected value.\")"
   ]
  },
  {
   "cell_type": "code",
   "execution_count": null,
   "metadata": {},
   "outputs": [],
   "source": [
    "# Natural Fe analysis\n",
    "Nat_Fe_mean = np.average(Natural_Fe['u_pos'])\n",
    "\n",
    "Nat_Fe_isoshift = energy_cal(E_src,Nat_Fe_mean,Vpp['Natural_Fe'])\n",
    "NFe_vel = velocity_cal(Nat_Fe_mean,Vpp['Natural_Fe'])\n",
    "print(f'Isomer shift: {Nat_Fe_isoshift} eV or {NFe_vel} mm/s')\n",
    "NFe_adjusted_peaks = energy_cal(E_src, Natural_Fe['u_pos'],Vpp['Natural_Fe']) - Nat_Fe_isoshift\n",
    "NFe_B_val = -(NFe_adjusted_peaks[4]-NFe_adjusted_peaks[2])/(2*ug)\n",
    "print(f'B-field: {NFe_B_val} T')\n",
    "NFe_ue = (NFe_adjusted_peaks[5]-NFe_adjusted_peaks[4])/NFe_B_val * (3/2)\n",
    "print(f'Excited state magnetic moment: {NFe_ue} eV/T')"
   ]
  },
  {
   "cell_type": "markdown",
   "metadata": {},
   "source": [
    "### Sodium nitroprusside\n",
    "\n",
    "Need isomer shift relative to Fe foil and quadrupole split, both in mm/s units.\n",
    "\n",
    "Compare results to literature values of $-0.257$ mm/s for the isomer shift, relative to Fe and $1.7048$ mm/s for the quadrupole splitting.  "
   ]
  },
  {
   "cell_type": "code",
   "execution_count": 90,
   "metadata": {},
   "outputs": [
    {
     "name": "stdout",
     "output_type": "stream",
     "text": [
      "The isomer shift for SNP relative to the source was:  -0.34686877+/-0.00000024 mm/s\n",
      "We calculated an isomer shift relative to Fe for SNP of:  -0.2750237+/-0.0000026 mm/s\n",
      "\n",
      "We calculated the quadrupole split, epsilon, by taking half the photon energy difference between the peaks:\n",
      "epsilon= 117.097627+/-0.000034 mm/s\n"
     ]
    }
   ],
   "source": [
    "Vpp_SNP=Vpp['SNP']\n",
    "\n",
    "isoshift_SNP_mms=velocity_cal(np.average(SNP['u_pos']), Vpp_SNP)\n",
    "isoshift_SNPFe_mms=isoshift_SNP_mms - isoshift_Fe_mms\n",
    "\n",
    "print(\"The isomer shift for SNP relative to the source was: \", isoshift_SNP_mms, \"mm/s\")\n",
    "print(\"We calculated an isomer shift relative to Fe for SNP of: \", isoshift_SNPFe_mms, \"mm/s\")\n",
    "\n",
    "eps_SNP=(SNP['u_pos'][1]-SNP['u_pos'][0])/2\n",
    "print(\"\\nWe calculated the quadrupole split, epsilon, by taking half the photon energy difference between the peaks:\\nepsilon=\", eps_SNP, \"mm/s\")"
   ]
  },
  {
   "cell_type": "markdown",
   "metadata": {},
   "source": [
    "### Stainless steel\n",
    "\n",
    "There is only one peak for the stainless-steel sample, so the only task is to obtain the isomer shift $\\delta$. From the referece work by Greenwood and Gibb, typical shifts relative to natural iron are $-0.09$ mm/s with a range between $-0.077$ to $-0.096$ mm/s depending on the alloy type.\n",
    "\n",
    "Also find the width of the peak and study the following:\n",
    "* How does the width of the single peak compare to the width of one peak for enriched iron?  Is there evidence of a weak internal field?\n",
    "* How well does the Lorentzian peak shape fit for stainless?  If it does not fit as well, what could be the reason(s)?"
   ]
  },
  {
   "cell_type": "code",
   "execution_count": null,
   "metadata": {},
   "outputs": [],
   "source": [
    "isoshift_stainless_steel = velocity_cal(np.average(Stainless_Steel['u_pos']), Vpp['Stainless_Steel'])\n",
    "isoshift_ss_mms = isoshift_stainless_steel - isoshift_Fe_mms     \n",
    "\n",
    "print(\"Isomer shift for Stainless Steel relative to the source is: \", isoshift_stainless_steel, \"mm/s\")\n",
    "print(\"Isomer shift relative to Fe is: \", isoshift_ss_mms, \"mm/s\")"
   ]
  },
  {
   "cell_type": "markdown",
   "metadata": {},
   "source": [
    "### Hematite (Rust)\n",
    "\n",
    "Analysis proceeds in same manner as for enriched Fe foil. Find $\\delta$, $B$, $\\mu_e$. \n",
    "\n",
    "#### Then find quadrupole splitting\n",
    "\n",
    "From Figure 2 in Kistner & Sunyar (PRL Vol. 4, p.412, 1960) peaks 0-1 are closer together than 1-2 by $2\\varepsilon$ and peaks 4-5 are farther apart than peaks 3-4.  To find $\\varepsilon$ we note that (4-5)-(0-1) should be equal to $4\\varepsilon$.\n",
    "\n",
    "Compare to following results in Kistner & Sunyar:\n",
    "* G.S Splitting = $6.11\\pm0.05$ mm/s\n",
    "* E.S. splitting = $3.45\\pm0.03$ mm/s\n",
    "* Isomer shift relative to Fe = $0.47\\pm0.03$ mm/s\n",
    "* Quadrupole splitting $\\varepsilon = 0.12\\pm0.03$ mm/s"
   ]
  },
  {
   "cell_type": "code",
   "execution_count": 134,
   "metadata": {},
   "outputs": [
    {
     "name": "stdout",
     "output_type": "stream",
     "text": [
      "\n",
      "The isomer shift of Hematite relative to Fe is:  0.4301971+/-0.0000026 mm/s\n",
      "Magnetic field inside Hematite:  -80.358697+/-0.000010 T\n",
      "\n",
      "ue for Hematite:  (-6.6550588+/-0.0000012)e-09 eV/T\n",
      "\n",
      "We estimated the quadrupole splitting: \n",
      "epsilon =  (5.930862+/-0.000007)e-09 eV;    0.12336587+/-0.00000016 mm/s\n",
      "\n",
      "Ground state splitting:  4.7751749+/-0.0000006 mm/s\n",
      "Excited state splitting:  7.3870537+/-0.0000006 mm/s\n"
     ]
    }
   ],
   "source": [
    "E_src=E_src = 14413              # eV\n",
    "Vpp_Fe2O3=Vpp['Fe2O3']           # mV\n",
    "un=3.1525E-8                     # eV/T\n",
    "ug=0.09062*un                    # eV/T\n",
    "\n",
    "\n",
    "isoshift_Fe2O3=  (np.sum(energy_cal(E_src, Fe2O3['u_pos'], Vpp_Fe2O3))) / 6\n",
    "isoshift_Fe2O3Fe=isoshift_Fe2O3-isoshift_Fe\n",
    "\n",
    "isoshift_Fe2O3Fe_mms=energy2velocity(isoshift_Fe2O3Fe)\n",
    "print(\"\\nThe isomer shift of Hematite relative to Fe is: \", isoshift_Fe2O3Fe_mms, \"mm/s\")\n",
    "\n",
    "delta_shift_24=Fe2O3['u_pos'][4]-Fe2O3['u_pos'][2]\n",
    "delta_shift_24_eV=energy_cal(E_src, delta_shift_24, Vpp_Fe2O3)\n",
    "B_Fe2O3=-delta_shift_24_eV/ug\n",
    "print(\"Magnetic field inside Hematite: \", B_Fe2O3, \"T\")\n",
    "\n",
    "delta_shift_12=Fe2O3['u_pos'][2]-Fe2O3['u_pos'][1]\n",
    "delta_shift_12_eV=energy_cal(E_src, delta_shift_12, Vpp_Fe2O3)\n",
    "ue=(delta_shift_12_eV/B_Fe2O3)*3/2\n",
    "print(\"\\nue for Hematite: \", ue, \"eV/T\")\n",
    "\n",
    "\n",
    "delta_shift_45=Fe2O3['u_pos'][5]-Fe2O3['u_pos'][4]\n",
    "delta_shift_01=Fe2O3['u_pos'][1]-Fe2O3['u_pos'][0]\n",
    "delta_shift_45_eV=energy_cal(E_src, delta_shift_45, Vpp_Fe2O3)\n",
    "delta_shift_01_eV=energy_cal(E_src, delta_shift_01, Vpp_Fe2O3)\n",
    "eps=(delta_shift_01_eV-delta_shift_45_eV)/4\n",
    "print(\"\\nWe estimated the quadrupole splitting: \")\n",
    "print(\"epsilon = \", eps, \"eV;   \", energy2velocity(eps), \"mm/s\")\n",
    "\n",
    "GS_split=velocity_cal(delta_shift_24, Vpp_Fe2O3)\n",
    "print(\"\\nGround state splitting: \", GS_split, \"mm/s\")\n",
    "\n",
    "delta_shift_43=Fe2O3['u_pos'][4]-Fe2O3['u_pos'][3]\n",
    "ES_split=velocity_cal(delta_shift_43, Vpp_Fe2O3)\n",
    "print(\"Excited state splitting: \", ES_split, \"mm/s\")"
   ]
  }
 ],
 "metadata": {
  "kernelspec": {
   "display_name": "Python 3 (ipykernel)",
   "language": "python",
   "name": "python3"
  },
  "language_info": {
   "codemirror_mode": {
    "name": "ipython",
    "version": 3
   },
   "file_extension": ".py",
   "mimetype": "text/x-python",
   "name": "python",
   "nbconvert_exporter": "python",
   "pygments_lexer": "ipython3",
   "version": "3.12.1"
  }
 },
 "nbformat": 4,
 "nbformat_minor": 4
}
