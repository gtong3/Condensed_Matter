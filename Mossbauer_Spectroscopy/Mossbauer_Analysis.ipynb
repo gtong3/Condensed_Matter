{
 "cells": [
  {
   "cell_type": "markdown",
   "metadata": {},
   "source": [
    "# Individual Analysis for the M&ouml;ssbauer experiment\n",
    "\n",
    "## Results-only analysis template\n",
    "\n",
    "**This template walks through the analysis of the results starting from the peak positions and widths of the raw MCA spectrum files, usually obtained with the LabVIEW program that reads the data from the Norland MCA, along with associated velocity transducer measurements for each sample.  If you wish to carry out a full fit of the multi-peak spectrum plus background, you should use the *Mossbauer Full Analysis* template.**\n",
    "\n",
    "Use this template to carry out analysis of the spectrum results fro the M&ouml;ssbauer experiment.  You will need to have a spreadsheet file containing the peak positions and number for each spectrum.  You will also need to know the peak-to-peak amplitude of the velocity transducer output for each spectrum.\n",
    "\n",
    "For reference, here are links to recommended Python resources: the [Whirlwind Tour of Python](https://jakevdp.github.io/WhirlwindTourOfPython/) and the [Python Data Science Handbook](https://jakevdp.github.io/PythonDataScienceHandbook/) both by Jake VanderPlas.\n",
    "\n",
    "We will use the [Uncertainties](https://pythonhosted.org/uncertainties/) package in this notebook."
   ]
  },
  {
   "cell_type": "code",
   "execution_count": 2,
   "metadata": {},
   "outputs": [],
   "source": [
    "import numpy as np  # import the numpy library functions.\n",
    "import matplotlib.pyplot as plt # plotting functions\n",
    "import uncertainties as unc # Uncertainties package.  Good for simple error propagation\n",
    "import scipy.constants as const\n",
    "import pandas as pd\n",
    "%matplotlib inline"
   ]
  },
  {
   "cell_type": "markdown",
   "metadata": {},
   "source": [
    "### Tasks for this analysis\n",
    "\n",
    "For each spectrum:\n",
    "\n",
    "1. Use the peak-to-peak amplitude from the velocity transducer and to create a calibration function (a line).  You will need the function generator period and MCS dwell time.  The function should return a velocity in mm/s given a channel number.  Negative velocities should indicate negative energy shifts, and positive velocities should indicate positive energy shifts.\n",
    "\n",
    "2. Apply your calibration function to the peak-position data sets for all spectral peaks. Record these results in tables, one table for each sample.  You want an ordered table of absorption peaks in units of mm/s.  Recommended: Make a DataFrame.\n",
    "\n",
    "3. Then run the following calculations, depending on your samples\n",
    "    * For **enriched iron &amp; natural iron**: Calculate (1) the isomer shift in mm/s, (2) the magnitide of the internal magnetic field in tesla and (3) the magnitude of the magnetic moment of the excited state in units of the nuclear magneton.  Compare values to expected results.\n",
    "\n",
    "    * For **sodium nitroprusside**: Calculate (1) the isomer shift in mm/s, (2) the quadrupole splitting in mm/s. Then calculate the isomer shift compared to enriched Fe. Compare your value to expected results.\n",
    "\n",
    "    * For **stainless steel**: Calculate (1) the isomer shift in mm/s of the single peak.  Then calculate the isomer shift realtive to enriched Fe.  Compare your value to the expected result.  Also calculate the peak width in velocity units to compare to the peak widths for enriched Fe and discuss whether you see evidence of a weak internal field (as opposed to zero internal field).\n",
    "    \n",
    "    * For **hematite**: Calculate all the folowing in mm/s: (1) the isomer shift relative to enriched Fe, (2) the splitting in the ground state, (3) the splitting in the excited state, (4) the quanrupole energy.  Then calculate the magnetic field magnitude in tesla. \n"
   ]
  },
  {
   "cell_type": "markdown",
   "metadata": {},
   "source": [
    "## Read in your results\n",
    "\n",
    "Recommended: Make a CSV file for each sample.  The top row should have labels `'Pos'`, `'Pos_unc'`, `'Width'`, and `'Width_unc'`. Each row should be the data for a different peak number in the spectrum. Then create a DataFrame with uncertainty objects that combine the position and uncertainty values for each peak.\n",
    "\n",
    "Use the **Pandas** `read_csv()` function to read the CSV file:\n",
    "\n",
    "    Fe = pd.read_csv('enriched_Fe_peaks.csv')\n",
    "    \n",
    "The dataframe will be named `Fe`  with columns `Fe['Pos']`, `Fe['Pos_unc']`, `Fe['Width']`, `Fe['Width_unc']`. "
   ]
  },
  {
   "cell_type": "code",
   "execution_count": 7,
   "metadata": {},
   "outputs": [
    {
     "data": {
      "text/html": [
       "<div>\n",
       "<style scoped>\n",
       "    .dataframe tbody tr th:only-of-type {\n",
       "        vertical-align: middle;\n",
       "    }\n",
       "\n",
       "    .dataframe tbody tr th {\n",
       "        vertical-align: top;\n",
       "    }\n",
       "\n",
       "    .dataframe thead th {\n",
       "        text-align: right;\n",
       "    }\n",
       "</style>\n",
       "<table border=\"1\" class=\"dataframe\">\n",
       "  <thead>\n",
       "    <tr style=\"text-align: right;\">\n",
       "      <th></th>\n",
       "      <th>Pos</th>\n",
       "      <th>Pos_unc</th>\n",
       "      <th>Width</th>\n",
       "      <th>Width_unc</th>\n",
       "    </tr>\n",
       "  </thead>\n",
       "  <tbody>\n",
       "    <tr>\n",
       "      <th>0</th>\n",
       "      <td>143.083151</td>\n",
       "      <td>0.000411</td>\n",
       "      <td>9.356082</td>\n",
       "      <td>0.000589</td>\n",
       "    </tr>\n",
       "    <tr>\n",
       "      <th>1</th>\n",
       "      <td>294.024709</td>\n",
       "      <td>0.000429</td>\n",
       "      <td>9.393148</td>\n",
       "      <td>0.000615</td>\n",
       "    </tr>\n",
       "    <tr>\n",
       "      <th>2</th>\n",
       "      <td>446.305774</td>\n",
       "      <td>0.000442</td>\n",
       "      <td>4.910503</td>\n",
       "      <td>0.000629</td>\n",
       "    </tr>\n",
       "    <tr>\n",
       "      <th>3</th>\n",
       "      <td>560.178525</td>\n",
       "      <td>0.000469</td>\n",
       "      <td>5.179656</td>\n",
       "      <td>0.000667</td>\n",
       "    </tr>\n",
       "    <tr>\n",
       "      <th>4</th>\n",
       "      <td>712.988996</td>\n",
       "      <td>0.000403</td>\n",
       "      <td>9.021720</td>\n",
       "      <td>0.000577</td>\n",
       "    </tr>\n",
       "    <tr>\n",
       "      <th>5</th>\n",
       "      <td>866.987314</td>\n",
       "      <td>0.000439</td>\n",
       "      <td>10.150513</td>\n",
       "      <td>0.000631</td>\n",
       "    </tr>\n",
       "  </tbody>\n",
       "</table>\n",
       "</div>"
      ],
      "text/plain": [
       "          Pos   Pos_unc      Width  Width_unc\n",
       "0  143.083151  0.000411   9.356082   0.000589\n",
       "1  294.024709  0.000429   9.393148   0.000615\n",
       "2  446.305774  0.000442   4.910503   0.000629\n",
       "3  560.178525  0.000469   5.179656   0.000667\n",
       "4  712.988996  0.000403   9.021720   0.000577\n",
       "5  866.987314  0.000439  10.150513   0.000631"
      ]
     },
     "execution_count": 7,
     "metadata": {},
     "output_type": "execute_result"
    }
   ],
   "source": [
    "# Inverted Lorentzian peak equation: a*c^2/((x-b)^2+c^2)+d\n",
    "# b = peak position (channel), c = peak width, a = peak height, d = baseline\n",
    "Enriched_Fe = pd.read_csv('Enriched_Fe_Peaks.csv')\n",
    "Fe2O3 = pd.read_csv('Hematite_Peaks.csv') # AKA Hematite\n",
    "Natural_Fe = pd.read_csv('Natural_Fe_Peaks.csv') # 0.001 inches\n",
    "SNP = pd.read_csv('SNP_Peaks.csv')\n",
    "Stainless_Steel = pd.read_csv('Stainless_Steel_Peaks.csv')\n",
    "\n",
    "# Print a table by just entering the name of the dataframe:\n",
    "Enriched_Fe\n",
    "\n",
    "# Creation of uncertainty objects\n"
   ]
  },
  {
   "cell_type": "markdown",
   "metadata": {},
   "source": [
    "## Calibrate the data sets\n",
    "\n",
    "### Create the calibration function(s)\n",
    "\n",
    "Think carefully about the motion of the source: where is it at the begining of the scan?  which direction is it moving? \n",
    "\n",
    "Think carefully about the dwell time and how long an MCS cycle takes.  (One cycle is a run through all channels.)  At which channel is the velocity zero?  Which channel would have the highest velocity forward and which would have the highest velocity in reverse.  Once you know this, you create a line that interpolates between these points. \n",
    "\n",
    "If you have not already converted channel numbers to mm/s values using the velocity transducer conversion factor and the peak-to-peak amplitude of the velocity transducer signal, do this below."
   ]
  },
  {
   "cell_type": "code",
   "execution_count": 6,
   "metadata": {},
   "outputs": [
    {
     "data": {
      "text/plain": [
       "73.86"
      ]
     },
     "execution_count": 6,
     "metadata": {},
     "output_type": "execute_result"
    }
   ],
   "source": [
    "# Python \"dictionary\" to hold the peak-to-peak velocity transducer readings, in mV\n",
    "# You supply values and write the function.  The numbers below are typical: replace them.\n",
    "\n",
    "Vpp = {'Enriched_Fe':49.37, 'SNP':24.09, 'Fe2O3':73.86, 'Stainless_Steel':14.86,'Natural_Fe':48.64}\n",
    "\n",
    "Vpp['Fe2O3']  # Should print the value for the labeled sample\n"
   ]
  },
  {
   "cell_type": "markdown",
   "metadata": {},
   "source": [
    "#### Write the calibration function\n",
    "\n",
    "Fill in the details below."
   ]
  },
  {
   "cell_type": "code",
   "execution_count": 15,
   "metadata": {},
   "outputs": [
    {
     "name": "stdout",
     "output_type": "stream",
     "text": [
      "Velocity at channel 250 = 3.6301 mm/s\n"
     ]
    }
   ],
   "source": [
    "def velocity_cal(chan, Vpp, conv=0.295, dwell=5.0e-4, period=1.00):\n",
    "    '''\n",
    "    Velocity calibration function.  Converts channel number 'chan' to velocity with sign\n",
    "    based on the measured peak-to-peak voltage from the velocity transducer 'Vpp' (in mV),\n",
    "    the transducer conversion constant 'conv' (in (mm/s)/mV), the channel dwell time \n",
    "    'dwell' (in s), and the drive period 'period' (in s).  \n",
    "    '''\n",
    "    intercept = Vpp * conv/2\n",
    "    slope = Vpp * conv/999\n",
    "\n",
    "    return(intercept - slope*(chan+0.5)) # slight correction to place velocity at middle of dwell time (1/2 channel)\n",
    "\n",
    "a_channel = 250\n",
    "print(\"Velocity at channel {} = {:4g} mm/s\".format(a_channel, velocity_cal(a_channel,Vpp=Vpp['Enriched_Fe'])))\n"
   ]
  },
  {
   "cell_type": "markdown",
   "metadata": {},
   "source": [
    "### Create columns with uncertainty objects\n",
    "\n",
    "The code in [Examples](https://github.com/Physics431/Examples) shows how to build \"uncertainty\" objects and how to calculate with them. \n",
    "\n",
    "Something like this should work:\n",
    "\n",
    "    from uncertainties import unumpy\n",
    "    \n",
    "    Fe['u_pos'] = unumpy.uarray(Fe['Pos'],Fe['Pos_unc'])\n",
    "\n",
    "This will add another column that combines the position and its uncertainty into a single array in its own column within the dataframe.  \n",
    "\n",
    "### Convert the uncertainty object column from channels to velocities (with uncertainty)\n",
    "\n",
    "If your calibration function only uses standard mathematical operators, you can feed this column through the calibration function to obtain the peak prositions and their uncertainty in units of mm/s. the **Uncertainties** package will propagate the uncertainty for you.  "
   ]
  },
  {
   "cell_type": "code",
   "execution_count": 8,
   "metadata": {},
   "outputs": [
    {
     "data": {
      "text/html": [
       "<div>\n",
       "<style scoped>\n",
       "    .dataframe tbody tr th:only-of-type {\n",
       "        vertical-align: middle;\n",
       "    }\n",
       "\n",
       "    .dataframe tbody tr th {\n",
       "        vertical-align: top;\n",
       "    }\n",
       "\n",
       "    .dataframe thead th {\n",
       "        text-align: right;\n",
       "    }\n",
       "</style>\n",
       "<table border=\"1\" class=\"dataframe\">\n",
       "  <thead>\n",
       "    <tr style=\"text-align: right;\">\n",
       "      <th></th>\n",
       "      <th>Pos</th>\n",
       "      <th>Pos_unc</th>\n",
       "      <th>Width</th>\n",
       "      <th>Width_unc</th>\n",
       "      <th>u_pos</th>\n",
       "    </tr>\n",
       "  </thead>\n",
       "  <tbody>\n",
       "    <tr>\n",
       "      <th>0</th>\n",
       "      <td>430.663291</td>\n",
       "      <td>0.000046</td>\n",
       "      <td>13.115068</td>\n",
       "      <td>0.000068</td>\n",
       "      <td>430.66329+/-0.00005</td>\n",
       "    </tr>\n",
       "    <tr>\n",
       "      <th>1</th>\n",
       "      <td>664.858545</td>\n",
       "      <td>0.000050</td>\n",
       "      <td>13.490171</td>\n",
       "      <td>0.000074</td>\n",
       "      <td>664.85855+/-0.00005</td>\n",
       "    </tr>\n",
       "  </tbody>\n",
       "</table>\n",
       "</div>"
      ],
      "text/plain": [
       "          Pos   Pos_unc      Width  Width_unc                u_pos\n",
       "0  430.663291  0.000046  13.115068   0.000068  430.66329+/-0.00005\n",
       "1  664.858545  0.000050  13.490171   0.000074  664.85855+/-0.00005"
      ]
     },
     "execution_count": 8,
     "metadata": {},
     "output_type": "execute_result"
    }
   ],
   "source": [
    "from uncertainties import unumpy\n",
    "\n",
    "Enriched_Fe['u_pos'] = unumpy.uarray(Enriched_Fe['Pos'],Enriched_Fe['Pos_unc'])\n",
    "SNP['u_pos'] = unumpy.uarray(SNP['Pos'],SNP['Pos_unc'])\n",
    "Fe2O3['u_pos'] = unumpy.uarray(Fe2O3['Pos'],Fe2O3['Pos_unc'])\n",
    "Stainless_Steel['u_pos'] = unumpy.uarray(Stainless_Steel['Pos'],Stainless_Steel['Pos_unc'])\n",
    "Natural_Fe['u_pos'] = unumpy.uarray(Natural_Fe['Pos'],Natural_Fe['Pos_unc'])\n",
    "\n",
    "SNP"
   ]
  },
  {
   "cell_type": "markdown",
   "metadata": {},
   "source": [
    "## Analyze each spectrum\n",
    "\n",
    "Depending on your sample set, choose the appropriate set of tasks below.\n",
    "\n",
    "### Enriched iron & natural iron\n",
    "\n",
    "1. Start with isomer shift $\\delta$. This is just the average of all peak locations. The number would be relative to the source Co-57/Rh\n",
    "\n",
    "2. Next calculate the magnetic field $B$ and excited-state moment $\\mu_e$ from the enriched-foil data.  \n",
    "\n",
    "For the field, we first need the transitions that start from different ground states and end at the same excited states.  There are two pairs of these, one pair ends at -1/2: peaks 2 & 4, and the other ends at +1/2, peaks 1 and 3. The differences between these will give $\\mu_gB$.  From this get $B$ with $\\mu_g = +0.09062\\mu_n$ where $\\mu_n = 3.1525\\times10^{-8}$ eV/T \n",
    "\n",
    "You will need to convert to energy with Doppler formula\n",
    "$$\\frac{\\Delta E}{E} = \\frac{v}{c}$$\n",
    "where $E = 14.412497$ keV.\n",
    "\n",
    "To get the excited state moment, you will need the excited state splitting. These pairs that start at the same ground state but end at different excited states: peaks 0-1, 1-2, 3-4, and 4-5.\n",
    "\n",
    "3. From this calculate the excited state moment $\\mu_e$, and compare to $-0.1549\\mu_n$. \n",
    "\n",
    "4. Repeat the above for any other natural iron samples you may have. (Don't forget to apply the correct calibration constant for each one.)"
   ]
  },
  {
   "cell_type": "code",
   "execution_count": 16,
   "metadata": {},
   "outputs": [
    {
     "name": "stdout",
     "output_type": "stream",
     "text": [
      "Isomer shift for enriched Fe: 503.92808+/-0.00018\n",
      "Isomer shift for natural Fe: 503.37775+/-0.00009\n"
     ]
    }
   ],
   "source": [
    "def iso_shift(material):\n",
    "    return sum(material['u_pos'])/len(material['u_pos'])\n",
    "\n",
    "print(f'Isomer shift for enriched Fe: {iso_shift(Enriched_Fe)}')\n",
    "print(f'Isomer shift for natural Fe: {iso_shift(Natural_Fe)}')"
   ]
  },
  {
   "cell_type": "markdown",
   "metadata": {},
   "source": [
    "### Sodium nitroprusside\n",
    "\n",
    "Need isomer shift relative to Fe foil and quadrupole split, both in mm/s units.\n",
    "\n",
    "Compare results to literature values of $-0.257$ mm/s for the isomer shift, relative to Fe and $1.7048$ mm/s for the quadrupole splitting.  "
   ]
  },
  {
   "cell_type": "code",
   "execution_count": null,
   "metadata": {},
   "outputs": [],
   "source": []
  },
  {
   "cell_type": "markdown",
   "metadata": {},
   "source": [
    "### Stainless steel\n",
    "\n",
    "There is only one peak for the stainless-steel sample, so the only task is to obtain the isomer shift $\\delta$. From the referece work by Greenwood and Gibb, typical shifts relative to natural iron are $-0.09$ mm/s with a range between $-0.077$ to $-0.096$ mm/s depending on the alloy type.\n",
    "\n",
    "Also find the width of the peak and study the following:\n",
    "* How does the width of the single peak compare to the width of one peak for enriched iron?  Is there evidence of a weak internal field?\n",
    "* How well does the Lorentzian peak shape fit for stainless?  If it does not fit as well, what could be the reason(s)?"
   ]
  },
  {
   "cell_type": "code",
   "execution_count": null,
   "metadata": {},
   "outputs": [],
   "source": []
  },
  {
   "cell_type": "markdown",
   "metadata": {},
   "source": [
    "### Hematite (Rust)\n",
    "\n",
    "Analysis proceeds in same manner as for enriched Fe foil. Find $\\delta$, $B$, $\\mu_e$. \n",
    "\n",
    "#### Then find quadrupole splitting\n",
    "\n",
    "From Figure 2 in Kistner & Sunyar (PRL Vol. 4, p.412, 1960) peaks 0-1 are closer together than 1-2 by $2\\varepsilon$ and peaks 4-5 are farther apart than peaks 3-4.  To find $\\varepsilon$ we note that (4-5)-(0-1) should be equal to $4\\varepsilon$.\n",
    "\n",
    "Compare to following results in Kistner & Sunyar:\n",
    "* G.S Splitting = $6.11\\pm0.05$ mm/s\n",
    "* E.S. splitting = $3.45\\pm0.03$ mm/s\n",
    "* Isomer shift relative to Fe = $0.47\\pm0.03$ mm/s\n",
    "* Quadrupole splitting $\\varepsilon = 0.12\\pm0.03$ mm/s"
   ]
  },
  {
   "cell_type": "code",
   "execution_count": null,
   "metadata": {},
   "outputs": [],
   "source": []
  }
 ],
 "metadata": {
  "kernelspec": {
   "display_name": "Python 3",
   "language": "python",
   "name": "python3"
  },
  "language_info": {
   "codemirror_mode": {
    "name": "ipython",
    "version": 3
   },
   "file_extension": ".py",
   "mimetype": "text/x-python",
   "name": "python",
   "nbconvert_exporter": "python",
   "pygments_lexer": "ipython3",
   "version": "3.12.1"
  }
 },
 "nbformat": 4,
 "nbformat_minor": 2
}
