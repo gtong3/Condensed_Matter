{
 "cells": [
  {
   "cell_type": "markdown",
   "metadata": {},
   "source": [
    "# Continuous NMR analysis\n",
    "\n",
    "Use this template as a starting point to carry out the analysis tasks.  For reference, here are links to recommended Python resources: the [Whirlwind Tour of Python](https://jakevdp.github.io/WhirlwindTourOfPython/) and the [Python Data Science Handbook](https://jakevdp.github.io/PythonDataScienceHandbook/) both by Jake VanderPlas.\n",
    "\n",
    "## Standard Packages\n",
    "\n",
    "This is a good idea at the beginning of your notebook to include the packages that you will need.  We will use those shown below here.  A brief description:\n",
    "* `numpy` is the foundational package for Python numerical work. It extends and speeds up array operations beyond standard Python, and it includes almost all math functions that you would need for example `sqrt()` (square root) or `cos()` (cosine).  These would be written in code as `np.sqrt()` or `np.cos()`.\n",
    "* `scipy` is a huge collection of scientific data analysis functions, routines, physicical constants, etc.  This is the second most used package for scientific work. Here we will use the physical constants library, `scipy.constants`.  Documentation is at [SciPy.org](https://docs.scipy.org/doc/scipy/reference/) with the constants subpackage at https://docs.scipy.org/doc/scipy/reference/constants.html.\n",
    "* `uncertainties` is a very useful small package that simplifies uncertainty propagation and printing out of quantities with uncertainty. Documentation is at https://pythonhosted.org/uncertainties/\n",
    "* `matplotlib` is *the* standard plotting package for scientific Python.  We will use a subset called `pyplot` which is modeled after the plotting functions used in MATLAB. The last line below, `%matplotlib inline`, simply forces the plots to appear within the notebook.\n",
    "* `pandas` is a large data science package.  It's main feature is a set of methods to create and manipulate a \"DataFrame,\" which is an enlargement of the idea of an array.  I plays well with NumPy and other packages.  We will use it mainly as a way to read files into data sets in an easy way.\n",
    "* [LMFit](https://lmfit.github.io/lmfit-py/) is excellent for carrying out line and curve fits with many useful features."
   ]
  },
  {
   "cell_type": "markdown",
   "metadata": {},
   "source": [
    "## Getting Help\n",
    "\n",
    "See the example code for a wide range of actions in notebooks created by Prof. Marjorie Olmstead and Prof. David Pengra in this repository: [**Physics431/Examples**](https://github.com/Physics431/Examples).\n",
    "\n",
    "You can pull the examples into your environment with the following command.  (Only do this once, or you will get an error):\n",
    "\n",
    "    git clone https://github.com/Physics431/Examples"
   ]
  },
  {
   "cell_type": "markdown",
   "metadata": {},
   "source": [
    "## Task Summary\n",
    "\n",
    "#### Measure $\\gamma$ for protons\n",
    "1. Import measurements of frequency and magnetic field taken multiple times (5-10) in order to establish uncertainty of individual measurements.  \n",
    "2. Calculate the mean and standard deviation of each set of measurements.  Also calculate the percent uncetainty in each set. Use these results to establish uncertainties on the rest of the data points.\n",
    "3. Import measurements of the resonant frequency $f_{\\rm res}$ vs. static field $B_0$ for protons in water (+CuSO<sub>4</sub>) across the range of frequencies available with the oscillator.  \n",
    "4. Include the uncertainty calculated in step 2.\n",
    "5. Make a line fit and a plot of the data with the fit (use LMfit) to get the slope of $f_{\\rm res}$ versus $B_0$.\n",
    "6. Calculate $\\gamma$ and the $g$-factor for the proton, including uncertainty.\n",
    "\n",
    "#### Measure the resonance of <sup>19</sup>F versus <sup>1</sup>H\n",
    "1. Import measurements listing measured B-field along with resonant frequencies of <sup>1</sup>H and <sup>19</sup>F at those field strengths.\n",
    "2. Fit a line to the resonant frequency of <sup>19</sup>F versus resonant frequency of <sup>1</sup>H from the above data set, plot it (use LMfit) and obtain slope and its uncertainty.\n",
    "3. From the results calculate $\\gamma$ and associated $g$-factor for <sup>19</sup>F from the fit result and the accepted values known for <sup>1</sup>H.\n",
    "4. Comment in your Group Notebook on the topic of observable chemical shift for fluorine\n",
    "\n",
    "#### Trend of $T_2^*$ with paramagnetic ion concentration\n",
    "If you can get quantitative values for how $T_2^*$ decays for a range of concentration, make a plot to see the trend.\n"
   ]
  },
  {
   "cell_type": "code",
   "execution_count": 61,
   "metadata": {},
   "outputs": [],
   "source": [
    "# Usually import packages via a handle to the functions in them using import ... as ...\n",
    "#\n",
    "import numpy as np\n",
    "import matplotlib.pyplot as plt\n",
    "import matplotlib as mpl\n",
    "import pandas as pd\n",
    "import uncertainties as unc\n",
    "import scipy.constants as const\n",
    "%matplotlib inline"
   ]
  },
  {
   "cell_type": "code",
   "execution_count": 62,
   "metadata": {},
   "outputs": [],
   "source": [
    "# Useful plot default\n",
    "mpl.rcParams['figure.figsize'] = 12.0,8.0  # Roughly 12 cm wde by 8 cm high\n",
    "mpl.rcParams['font.size'] = 14.0 # Use 14 point font"
   ]
  },
  {
   "cell_type": "markdown",
   "metadata": {},
   "source": [
    "## Magnetic moment of the proton\n",
    "\n",
    "### Read in the multi-measurement data\n",
    "\n",
    "You should have a spreadsheet (CSV) with columns or rows of like measurements of frequency and field for a set of steady fields (at least 3 sets of 10 across the range of useable oscillator frequencies).  Import these data with Pandas `pd.read_csv()`:\n",
    "    \n",
    "    multi_data = pd.read_csv('multi-measurement_NMR_data.csv')\n"
   ]
  },
  {
   "cell_type": "code",
   "execution_count": 63,
   "metadata": {},
   "outputs": [
    {
     "name": "stdout",
     "output_type": "stream",
     "text": [
      "    Magnetic Field (kG)  Frequency (MHz)\n",
      "0                 1.485         6.401648\n",
      "1                 1.485         6.401440\n",
      "2                 1.485         6.401834\n",
      "3                 1.485         6.401667\n",
      "4                 1.485         6.401340\n",
      "5                 2.155         9.267811\n",
      "6                 2.155         9.267350\n",
      "7                 2.155         9.266775\n",
      "8                 2.155         9.266083\n",
      "9                 2.155         9.266851\n",
      "10                2.825        12.127180\n",
      "11                2.825        12.126279\n",
      "12                2.825        12.126324\n",
      "13                2.825        12.126594\n",
      "14                2.825        12.126184\n"
     ]
    }
   ],
   "source": [
    "# Read in the data to a Pandas dataframe and print a table.\n",
    "multi_data = pd.read_csv('Mag-FreqUncertainty.csv')\n",
    "print(multi_data)"
   ]
  },
  {
   "cell_type": "markdown",
   "metadata": {},
   "source": [
    "If the multiple measurements in the dataframe `df` are in a column with name `'col_name'` you an calculat the mean and standard deviation with the internal methods like this:\n",
    "\n",
    "    col_mean = df['col_name'].mean()\n",
    "    col_std_dev = df['col_name'].std()\n",
    "    \n",
    "Then the percent uncertainty is just the ratio of the standard deviation to the mean ($\\times$100).  Calculate this too."
   ]
  },
  {
   "cell_type": "code",
   "execution_count": 64,
   "metadata": {},
   "outputs": [
    {
     "name": "stdout",
     "output_type": "stream",
     "text": [
      "standard deviations:\n",
      "0.00019604897347335115 0.0006501069142840419 0.00040316398648645405\n",
      "% uncertainties:\n",
      "3.062506378862424e-05 7.015309574452695e-05 3.324649164056043e-05\n",
      "largest:\n",
      "0.0006501069142840419\n",
      "% uncertainty\n",
      "7.015309574452695e-05\n"
     ]
    }
   ],
   "source": [
    "# Calculate the requested quantities\n",
    "mean_1 = multi_data['Frequency (MHz)'][0:5].mean()\n",
    "std_dev_1 = multi_data['Frequency (MHz)'][0:5].std()\n",
    "unc1=std_dev_1/mean_1\n",
    "\n",
    "mean_2 = multi_data['Frequency (MHz)'][5:10].mean()\n",
    "std_dev_2 = multi_data['Frequency (MHz)'][5:10].std()\n",
    "unc2=std_dev_2/mean_2\n",
    "\n",
    "mean_3 = multi_data['Frequency (MHz)'][10:15].mean()\n",
    "std_dev_3 = multi_data['Frequency (MHz)'][10:15].std()\n",
    "unc3=std_dev_3/mean_3\n",
    "\n",
    "print(\"standard deviations:\")\n",
    "print(std_dev_1, std_dev_2, std_dev_3)\n",
    "print(\"% uncertainties:\")\n",
    "print(unc1, unc2, unc3)\n",
    "### choose the largest standard deviation to overestimate error\n",
    "print(\"largest:\")\n",
    "print(std_dev_2)\n",
    "uncertainty=std_dev_2/mean_2\n",
    "print(\"% uncertainty\")\n",
    "print(uncertainty)\n"
   ]
  },
  {
   "cell_type": "markdown",
   "metadata": {},
   "source": [
    "If the standard deviations are (nearly) the same, you can use one number for the uncertainty in a frequency or field measurement.  If they are different, check the percent uncertainty.  If these are (nearly) the same, then the data-point uncertainty can be given by the value times this percent uncertainty. If these are different, then you should use an interpolation function to calculate the uncertainty in a data point.\n",
    "\n",
    "The Python libraries provide just such a function: the **SciPy** `interpolate` package, which you can read about here: [SciPy Interpolate](https://docs.scipy.org/doc/scipy/reference/reference/interpolate.html).\n",
    "\n",
    "The SciPy function to use is `interp1d()`.  Notice that it creates a *function*. To create the interpolation function, you feed it your feed it your list of uncertainties versus frequency or uncertainties versus field, then use the result with your array of values of $f_{\\rm res}$ versus $B_0$ to obtain the uncertainty for each data point."
   ]
  },
  {
   "cell_type": "code",
   "execution_count": 65,
   "metadata": {},
   "outputs": [],
   "source": [
    "# Make a table of the uncertainty calculation to easily compare the values across the measurement range.\n"
   ]
  },
  {
   "cell_type": "markdown",
   "metadata": {},
   "source": [
    "### Read in the resonance data for protons\n",
    "\n",
    "Use `read_csv()` as before.  You should have a table with at least 2 columns: resonance frequency and magnetic field. \n",
    "\n",
    "Print a table."
   ]
  },
  {
   "cell_type": "code",
   "execution_count": 66,
   "metadata": {},
   "outputs": [
    {
     "name": "stdout",
     "output_type": "stream",
     "text": [
      "   Frequency (MHz)  Magnetic Field (kG)\n",
      "0         6.503459                1.500\n",
      "1         7.490950                1.730\n",
      "2         7.800902                1.802\n",
      "3         8.238890                1.903\n",
      "4         8.667306                2.003\n",
      "5         9.088009                2.102\n",
      "6         9.517022                2.202\n",
      "7         9.968558                2.306\n",
      "8        10.584926                2.450\n",
      "9        11.243361                2.605\n"
     ]
    }
   ],
   "source": [
    "# Read in the data, and print the dataframe\n",
    "res_data = pd.read_csv('Mag-FreqData.csv')\n",
    "print(res_data)"
   ]
  },
  {
   "cell_type": "code",
   "execution_count": 67,
   "metadata": {},
   "outputs": [],
   "source": [
    "# Based on the result of the uncertainty analysis above, construct uncertainty arrays\n",
    "# to go with the data according to those instructions.\n",
    "\n",
    "# Include the uncertainty results as another column in the dataframe \n"
   ]
  },
  {
   "cell_type": "markdown",
   "metadata": {},
   "source": [
    "### Fit the data to extract the slope\n",
    "\n",
    "Use LMfit.  See the examples."
   ]
  },
  {
   "cell_type": "code",
   "execution_count": 68,
   "metadata": {},
   "outputs": [],
   "source": [
    "# Set  up the Model\n",
    "\n",
    "# Import the Linear model.\n",
    "# You only do this once in a notebook\n",
    "from lmfit.models import LinearModel\n",
    "\n",
    "# create an instance of the model\n",
    "# You only need to do this once\n",
    "line = LinearModel()\n"
   ]
  },
  {
   "cell_type": "code",
   "execution_count": 69,
   "metadata": {},
   "outputs": [
    {
     "data": {
      "text/html": [
       "<h2>Fit Result</h2> <p>Model: Model(linear)</p> <table class=\"jp-toc-ignore\"><caption class=\"jp-toc-ignore\">Fit Statistics</caption><tr><td style='text-align:left'>fitting method</td><td style='text-align:right'>leastsq</td></tr><tr><td style='text-align:left'># function evals</td><td style='text-align:right'>4</td></tr><tr><td style='text-align:left'># data points</td><td style='text-align:right'>10</td></tr><tr><td style='text-align:left'># variables</td><td style='text-align:right'>2</td></tr><tr><td style='text-align:left'>chi-square</td><td style='text-align:right'> 0.00747029</td></tr><tr><td style='text-align:left'>reduced chi-square</td><td style='text-align:right'> 9.3379e-04</td></tr><tr><td style='text-align:left'>Akaike info crit.</td><td style='text-align:right'>-67.9940636</td></tr><tr><td style='text-align:left'>Bayesian info crit.</td><td style='text-align:right'>-67.3888934</td></tr><tr><td style='text-align:left'>R-squared</td><td style='text-align:right'> 0.99961324</td></tr></table><table class=\"jp-toc-ignore\"><caption>Parameters</caption><tr><th style='text-align:left'>name</th><th style='text-align:left'>value</th><th style='text-align:left'>standard error</th><th style='text-align:left'>relative error</th><th style='text-align:left'>initial value</th><th style='text-align:left'>min</th><th style='text-align:left'>max</th><th style='text-align:right'>vary</th></tr><tr><td style='text-align:left'>slope</td><td style='text-align:left'> 4.29198476</td><td style='text-align:left'> 0.00298424</td><td style='text-align:left'>(0.07%)</td><td style='text-align:left'>4.2919847623830725</td><td style='text-align:left'>       -inf</td><td style='text-align:left'>        inf</td><td style='text-align:right'>True</td></tr><tr><td style='text-align:left'>intercept</td><td style='text-align:left'> 0.06756209</td><td style='text-align:left'> 0.00622390</td><td style='text-align:left'>(9.21%)</td><td style='text-align:left'>0.06756209406215496</td><td style='text-align:left'>       -inf</td><td style='text-align:left'>        inf</td><td style='text-align:right'>True</td></tr></table><table class=\"jp-toc-ignore\"><caption>Correlations (unreported values are < 0.100)</caption><tr><th style='text-align:left'>Parameter1</th><th style='text-align:left'>Parameter 2</th><th style='text-align:right'>Correlation</th></tr><tr><td style='text-align:left'>slope</td><td style='text-align:left'>intercept</td><td style='text-align:right'>-0.9879</td></tr></table>"
      ],
      "text/plain": [
       "<lmfit.model.ModelResult at 0x7e7234febbb0>"
      ]
     },
     "execution_count": 69,
     "metadata": {},
     "output_type": "execute_result"
    }
   ],
   "source": [
    "# Get starting parameters.  Example:\n",
    "x_data=res_data['Magnetic Field (kG)']\n",
    "y_data=res_data['Frequency (MHz)']\n",
    "y_data_unc=freq_uncertainty\n",
    "start_params = line.guess(y_data, x=x_data)\n",
    "\n",
    "# Feed these into the fitter and run it. Example:\n",
    "Line_fit = line.fit(y_data, start_params, x=x_data, weights=1/y_data_unc)\n",
    "\n",
    "# Print the fit results. Example\n",
    "Line_fit"
   ]
  },
  {
   "cell_type": "code",
   "execution_count": 70,
   "metadata": {},
   "outputs": [
    {
     "data": {
      "image/png": "[encoded data removed]",
      "text/plain": [
       "<Figure size 1200x800 with 1 Axes>"
      ]
     },
     "metadata": {},
     "output_type": "display_data"
    }
   ],
   "source": [
    "x=np.linspace(1.3, 2.7, 100)\n",
    "y=Line_fit.values['slope']*x + Line_fit.values['intercept']\n",
    "plt.plot(x, y)\n",
    "plt.scatter(x_data, y_data, color='r')\n",
    "plt.grid(True)\n",
    "plt.title('NMR resonance measurement for protons')\n",
    "plt.xlabel('Magnetic field (kG)')\n",
    "plt.ylabel('Resonant frequency (MHz)');\n",
    "plt.show()\n",
    "\n",
    "# Make a plot.  Example\n",
    "# Line_fit.plot()"
   ]
  },
  {
   "cell_type": "markdown",
   "metadata": {},
   "source": [
    "### Extract the slope with uncertainty from the fit parameters\n"
   ]
  },
  {
   "cell_type": "code",
   "execution_count": 71,
   "metadata": {},
   "outputs": [
    {
     "name": "stdout",
     "output_type": "stream",
     "text": [
      "gamma for protons = 4.2920±0.0030 MHz/kG\n"
     ]
    }
   ],
   "source": [
    "# Example\n",
    "proton_slope = unc.ufloat(Line_fit.params['slope'].value, Line_fit.params['slope'].stderr,'proton_slope')\n",
    "print('gamma for protons = {:.2uP} MHz/kG'.format(proton_slope))"
   ]
  },
  {
   "cell_type": "markdown",
   "metadata": {},
   "source": [
    "Calculate $\\gamma$ in rad/(s-T) to compare to accepted values.  Use the conversion constants in `scipy.constants` \n"
   ]
  },
  {
   "cell_type": "code",
   "execution_count": 87,
   "metadata": {},
   "outputs": [
    {
     "name": "stdout",
     "output_type": "stream",
     "text": [
      "Expected value of gamma for proton: 42.5775 MHz/T\n",
      "Expected value of gamma for proton: 2.67522e+08 rad/(s-T)\n",
      "Expected value of g factor for proton: 5.5856946893\n"
     ]
    }
   ],
   "source": [
    "# Here is an example of how to access the scipy.constants\n",
    "expected_gamma_MHz = const.value('nuclear magneton in MHz/T')*const.value('proton g factor')\n",
    "expected_gamma_rad = const.value('nuclear magneton in MHz/T')*const.value('proton g factor')*2*np.pi*1E6\n",
    "print('Expected value of gamma for proton: {:.6g} MHz/T'.format(expected_gamma_MHz))\n",
    "print('Expected value of gamma for proton: {:.6g} rad/(s-T)'.format(expected_gamma_rad))\n",
    "print('Expected value of g factor for proton:', const.value('proton g factor'))"
   ]
  },
  {
   "cell_type": "markdown",
   "metadata": {},
   "source": [
    "Calculate the proton $g$-factor from your result and compare to the expected value."
   ]
  },
  {
   "cell_type": "code",
   "execution_count": 86,
   "metadata": {},
   "outputs": [
    {
     "name": "stdout",
     "output_type": "stream",
     "text": [
      "gamma value = 42.920+/-0.030 MHz/T\n",
      "gamma value = (2.6967+/-0.0019)e+08 rad/(s-T)\n",
      "g factor = 5.631+/-0.004\n"
     ]
    }
   ],
   "source": [
    "# You code this\n",
    "gamma_MHz=proton_slope*10\n",
    "print(\"gamma value =\", gamma_MHz, \"MHz/T\")\n",
    "gamma_rad=2*np.pi*proton_slope*1E7\n",
    "print(\"gamma value =\", gamma_rad, \"rad/(s-T)\")\n",
    "\n",
    "g=2*const.value('proton mass')*gamma/const.value('elementary charge')\n",
    "print(\"g factor =\", g)"
   ]
  },
  {
   "cell_type": "markdown",
   "metadata": {},
   "source": [
    "## Fluorine-19 versus Proton (Hydrogen-1) resonance\n",
    "\n",
    "### Read in the data\n",
    "\n",
    "Also, print a table."
   ]
  },
  {
   "cell_type": "code",
   "execution_count": 74,
   "metadata": {},
   "outputs": [],
   "source": [
    "# Use pd.read_csv(), as you did earlier\n"
   ]
  },
  {
   "cell_type": "markdown",
   "metadata": {},
   "source": [
    "### Plot and fit the data.  \n",
    "\n",
    "BUT: Here you are comparing the resonant frequencies only!  The magnetic field measurement does not matter, as long as it is stable between the two frequency measurements for each data point"
   ]
  },
  {
   "cell_type": "code",
   "execution_count": 75,
   "metadata": {},
   "outputs": [],
   "source": [
    "# Make a fit and plot of fluorine resonant frequency versus hydrogen resonant frequency.\n"
   ]
  },
  {
   "cell_type": "markdown",
   "metadata": {},
   "source": [
    "### Use the result\n",
    "\n",
    "Obtain the slope with uncertainty and with the result calculate a value for $\\gamma_F$ and the <sup>19</sup>F $g$-factor. "
   ]
  },
  {
   "cell_type": "code",
   "execution_count": 76,
   "metadata": {},
   "outputs": [],
   "source": [
    "# You code this\n"
   ]
  },
  {
   "cell_type": "markdown",
   "metadata": {},
   "source": [
    "## Trend of $T_2^*$ as a function of paramagnetic ion concentration\n",
    "\n",
    "From the scope screen images, extract estimates of the relaxation time $T_2^*$ as a function of concentration of the copper sulfate ions.  \n",
    "\n",
    "Plot these on a plot with double-log axes.  To change the axis type of a plot use the functions\n",
    "\n",
    "    plt.xscale('log')\n",
    "    plt.yscale('log')\n",
    "    \n",
    "You should see a trend that the relaxation time gets a bit longer and then levels out as the concentration is decreased."
   ]
  },
  {
   "cell_type": "code",
   "execution_count": 77,
   "metadata": {},
   "outputs": [],
   "source": [
    "# You code this\n"
   ]
  },
  {
   "cell_type": "code",
   "execution_count": null,
   "metadata": {},
   "outputs": [],
   "source": []
  }
 ],
 "metadata": {
  "kernelspec": {
   "display_name": "Python 3 (ipykernel)",
   "language": "python",
   "name": "python3"
  },
  "language_info": {
   "codemirror_mode": {
    "name": "ipython",
    "version": 3
   },
   "file_extension": ".py",
   "mimetype": "text/x-python",
   "name": "python",
   "nbconvert_exporter": "python",
   "pygments_lexer": "ipython3",
   "version": "3.10.13"
  }
 },
 "nbformat": 4,
 "nbformat_minor": 4
}
