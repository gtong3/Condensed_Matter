{
 "cells": [
  {
   "cell_type": "markdown",
   "metadata": {},
   "source": [
    "# Surface plasmon resonance (SPR) modeling & analysis\n",
    "\n",
    "This workbook models the reflectance equations in the Simon, Mitchell & Watson paper, American Journal of Physics, Vol. 43, No. 7, pp. 630-636 (1975).\n",
    "\n",
    "Use this template as a starting point to carry out the analysis tasks.  For reference, here are links to recommended Python resources: the [Whirlwind Tour of Python](https://jakevdp.github.io/WhirlwindTourOfPython/) and the [Python Data Science Handbook](https://jakevdp.github.io/PythonDataScienceHandbook/) both by Jake VanderPlas.\n",
    "\n",
    "## Standard Packages\n",
    "\n",
    "This is a good idea at the beginning of your notebook to include the packages that you will need.  We will use those shown below here.  A brief description:\n",
    "* `numpy` is the foundational package for Python numerical work. It extends and speeds up array operations beyond standard Python, and it includes almost all math functions that you would need for example `sqrt()` (square root) or `cos()` (cosine).  These would be written in code as `np.sqrt()` or `np.cos()`.\n",
    "* `scipy` is a huge collection of scientific data analysis functions, routines, physicical constants, etc.  This is the second most used package for scientific work. Here we will use the physical constants library, `scipy.constants`.  Documentation is at [SciPy.org](https://docs.scipy.org/doc/scipy/reference/) with the constants subpackage at https://docs.scipy.org/doc/scipy/reference/constants.html.\n",
    "* `uncertainties` is a very useful small package that simplifies uncertainty propagation and printing out of quantities with uncertainty. Documentation is at https://pythonhosted.org/uncertainties/\n",
    "* `matplotlib` is *the* standard plotting package for scientific Python.  We will use a subset called `pyplot` which is modeled after the plotting functions used in MATLAB. The last line below, `%matplotlib inline`, simply forces the plots to appear within the notebook.\n",
    "* `pandas` is a large data science package.  It's main feature is a set of methods to create and manipulate a \"DataFrame,\" which is an enlargement of the idea of an array.  I plays well with NumPy and other packages.  We will use it mainly as a way to read files into data sets in an easy way.\n",
    "* [LMFit](https://lmfit.github.io/lmfit-py/) is excellent for carrying out line and curve fits with many useful features."
   ]
  },
  {
   "cell_type": "markdown",
   "metadata": {},
   "source": [
    "## Getting Help\n",
    "\n",
    "See the example code for a wide range of actions in notebooks created by Prof. Marjorie Olmstead and Prof. David Pengra in this repository: [**Physics431/Examples**](https://github.com/Physics431/Examples).\n",
    "\n",
    "You can pull the examples into your environment with the following command.  (Only do this once, or you will get an error):\n",
    "\n",
    "    git clone https://github.com/Physics431/Examples"
   ]
  },
  {
   "cell_type": "markdown",
   "metadata": {},
   "source": [
    "## Task Summary\n",
    "\n",
    "The SPR modeling analysis program creates a curve following the reflectance formula given in the paper by Simon, Mitchell and Watson, Eq. (11).  Your task is to recreate this function with Python code and plot it under your data points for at least one or two data sets.  This will give you deeper insight into the fitting formula.\n",
    "\n",
    "Start by creating functions for the quantities that go into Eq. (11).  These are Eqs. (7), (9b) and (9c), along with Eqs. (10a) and (10b).  The quantities that feed in are the complex dielectric permittivity  and the index of reflection of the glass $n$, along with $\\omega/c=k_0=2\\pi/\\lambda$. \n",
    "\n",
    "Then combine the functions into a single one that gives the reflectance R, Eq. (11).\n",
    "\n",
    "Be careful to convert your angles from degrees to radians before feeding them to the functions!  (This is the most common mistake students make.)\n",
    "\n",
    "You will need to make sure all quantities are represented by complex data types, even if the physical quantity is real-valued.\n",
    "\n",
    "Once you have a working function, you may try to see if you can make it work with LMfit.  In principal this is possible, but prepare for some challenges if your function is not of the required form for LMfit’s library calls. \n"
   ]
  },
  {
   "cell_type": "code",
   "execution_count": null,
   "metadata": {},
   "outputs": [],
   "source": [
    "# Usually import packages via a handle to the functions in them using import ... as ...\n",
    "#\n",
    "import numpy as np\n",
    "import matplotlib.pyplot as plt\n",
    "import matplotlib as mpl\n",
    "import pandas as pd\n",
    "%matplotlib inline"
   ]
  },
  {
   "cell_type": "code",
   "execution_count": null,
   "metadata": {},
   "outputs": [],
   "source": [
    "# Useful plot default\n",
    "mpl.rcParams['figure.figsize'] = 12.0,6.0  # Roughly 12 cm wde by 8 cm high\n",
    "mpl.rcParams['font.size'] = 14.0 # Use 14 point font"
   ]
  },
  {
   "cell_type": "markdown",
   "metadata": {},
   "source": [
    "## Reflectance modeling equations \n",
    "\n",
    "Main equation for normalized reflected intensity (SMW, Eq. 11):\n",
    "\n",
    "$$R = \\left|\\frac{r_{pm} + r_{ma}\\exp(-2kd)}{1+r_{pm}r_{ma}\\exp(-2kd)}\\right|^2$$\n",
    "\n",
    "where $r_{pm}$ and $r_{ma}$ are the reflection amplitudes from the prism-metal interface and the metal-air interface, and $d$ is the film thickness.\n",
    "\n",
    "The parameter $k$ is the \"absorption coefficient at non-normal incidence\" (SMW, Eq. 7):\n",
    "\n",
    "$$k = -i\\frac{\\omega}{c}\\left(\\epsilon - n^2\\sin^2\\theta_1\\right)^{1/2}$$\n",
    "\n",
    "We replace $\\omega/c$ with the wavenumber in free space $k_0=2\\pi/\\lambda_0$ of the incident light."
   ]
  },
  {
   "cell_type": "markdown",
   "metadata": {},
   "source": [
    "The reflection amplitudes are given by (SMW, Eq. 9b)\n",
    "\n",
    "$$r_{pm} = \\frac{\\epsilon^{1/2}\\cos\\theta_1 - n\\cos\\theta_2}{\\epsilon^{1/2}\\cos\\theta_1 + n\\cos\\theta_2}$$\n",
    "and (SMW, Eq. 9c)\n",
    "$$r_{ma} = \\frac{\\cos\\theta_2 - \\epsilon^{1/2}\\cos\\theta_3}{\\cos\\theta_2 + \\epsilon^{1/2}\\cos\\theta_3}$$\n",
    "\n",
    "where (SMW, Eq. 10a)\n",
    "\n",
    "$$\\cos\\theta_2 = \\left(1-(n^2/\\epsilon)\\sin^2\\theta_1\\right)^{1/2}$$\n",
    "and (SMW, Eq. 10b)\n",
    "$$\\cos\\theta_3 = \\left(1-n^2\\sin^2\\theta_1\\right)^{1/2}$$"
   ]
  },
  {
   "cell_type": "markdown",
   "metadata": {},
   "source": [
    "### Create functions for the above equations\n",
    "\n",
    "Make Python functions that carry out the calculations for each of the above equations.\n",
    "\n",
    "To evaulate the functions, you will need the following constants\n",
    "* The values of the wavelengths for the green and red laser light in vacuum\n",
    "* The values of the prism's refractive index for those two wavelenths\n",
    "\n",
    "The arguments to the function will include\n",
    "* The incident angle $\\theta_1$ in radians(!)\n",
    "* The complex dielectric permittivity $\\epsilon$\n",
    "* The metal film thickness $d$\n",
    "\n",
    "The functions should all return complex values except the one for Eq. (11) the reflectance $R$.  If you convert all inputs to the functions to complex, the return value will automatically be complex.\n",
    "\n",
    "Units: if $k$ is in inverse nanometers, then $d$ should be in nanometers, otherwise all othe constants are unitless."
   ]
  },
  {
   "cell_type": "code",
   "execution_count": null,
   "metadata": {},
   "outputs": [],
   "source": [
    "# Enter the appropriate values\n",
    "wavelength_green =  #nanometers\n",
    "wavelength_red =  #nanometers\n",
    "N_red =  # unitless\n",
    "N_green =  # unitless\n",
    "\n",
    "d_default =  # nanometers\n",
    "eps_default = \n",
    "one = complex(1.0, 0.0)\n",
    "minus_i = complex(0.0, -1.0)\n",
    "\n",
    "wavenum_red = 2.0*np.pi/wavelength_red\n",
    "wavenum_green = 2.0*np.pi/wavelength_green"
   ]
  },
  {
   "cell_type": "markdown",
   "metadata": {},
   "source": [
    "Build the functions."
   ]
  },
  {
   "cell_type": "code",
   "execution_count": null,
   "metadata": {},
   "outputs": [],
   "source": [
    "# For each function fill in the details\n",
    "\n",
    "def cos_theta2(theta_1, epsilon, N):\n",
    "    '''\n",
    "    Returns cos(theta_2), Eq. 10a\n",
    "    '''\n",
    "    # You code this #\n",
    "    return cos_th2\n",
    "\n",
    "def cos_theta3(theta_1, N):\n",
    "    '''\n",
    "    Returns cos(theta_3), Eq. 10b\n",
    "    '''\n",
    "    # You code this #\n",
    "    return cos_th3\n",
    "\n",
    "def k_plas(theta_1, epsilon, N, wavenum):\n",
    "    '''\n",
    "    Returns the k value for the plasmon, Eq. 7\n",
    "    '''\n",
    "    # You code this #\n",
    "    return k_p\n",
    "\n",
    "def r_ma(theta_1, epsilon, N):\n",
    "    '''\n",
    "    Returns r_ma also called r_23, Eq. 9c\n",
    "    Body of function needs to call cos_theta2() and cos_theta3()\n",
    "    '''\n",
    "    # You code this #\n",
    "    return r_23\n",
    "\n",
    "def r_pm(theta_1, epsilon, N):\n",
    "    '''\n",
    "    Returns r_pm also called r_12, Eq. 9b\n",
    "    Body of function needs to call cos_theta2()\n",
    "    '''\n",
    "    # You code this #\n",
    "    return r_12\n",
    "\n",
    "def R(theta_1, epsilon = eps_default, d=d_default, N = N_red, wavenum = wavenum_red):\n",
    "    '''\n",
    "    Calculate the reflectance for the surface plasmon, Eq. 11\n",
    "    Function calls k(theta_1, epsilon, N, wavenum), \n",
    "    r_pm(theta_1, epsilon, n) and r_ma(theta_1, epsilon, n).\n",
    "    '''\n",
    "    # You code this #\n",
    "    return big_R"
   ]
  },
  {
   "cell_type": "markdown",
   "metadata": {},
   "source": [
    "### Test the reflectance \n",
    "\n",
    "Test the above functions by feeding in a range of angles typical for the experiment, say between 41 and 50 degrees.  (Don't forget to convert to radians, or you will get some strange looking curves.) Use your fit resuslts from the LabVIEW analysis.\n",
    "\n",
    "You can use the NumPy function `np.linspace()` to genrate an array of evenly spaced values between a lower and upper limit.  For example to get an array of 500 numbers between 41 and 50, do this:\n",
    "\n",
    "    angles =  np.linspace(41.0,50.0,500)"
   ]
  },
  {
   "cell_type": "code",
   "execution_count": null,
   "metadata": {},
   "outputs": [],
   "source": [
    "angles = # set a range of angles\n",
    "rad_angles = (np.pi/180.0)*angles # convert them to radians to pass to your functions\n",
    "\n",
    "my_eps = # enter a value of epsilon\n",
    "my_d = # enter a value of thikness"
   ]
  },
  {
   "cell_type": "markdown",
   "metadata": {},
   "source": [
    "## Make a plot\n",
    "\n",
    "Make a quick plot to test it."
   ]
  },
  {
   "cell_type": "code",
   "execution_count": null,
   "metadata": {},
   "outputs": [],
   "source": [
    "# Pass the above variables to your functions and plot them\n",
    "#\n",
    "# Se the examples for how to make a plot\n"
   ]
  },
  {
   "cell_type": "markdown",
   "metadata": {},
   "source": [
    "## Plot the model against data\n",
    "\n",
    "### Read in a data file\n",
    "\n",
    "The data files are simple tab-delimited text files that can be read in with Pandas `pd.read_csv()`:\n",
    "    \n",
    "    red3_data = pd.read_csv('red_Ag_3.csv',sep='\\t')"
   ]
  },
  {
   "cell_type": "code",
   "execution_count": null,
   "metadata": {},
   "outputs": [],
   "source": [
    "# Read in  adata file and print it to see that it looks right\n"
   ]
  },
  {
   "cell_type": "code",
   "execution_count": null,
   "metadata": {},
   "outputs": [],
   "source": [
    "# Redo your plot above, but add the data to compare\n",
    "# \n",
    "\n"
   ]
  },
  {
   "cell_type": "markdown",
   "metadata": {},
   "source": [
    "## Try a fit with LMFit\n",
    "\n",
    "Read the documentation on LMFit (see the links at the top) and/or study the examples in the **Examples** repository to see how to create a custom model function.  Some hints:\n",
    "* The independent variable is by default called `x`.  Your fit function should also use this, and it needs to be the first argument passed to the function.\n",
    "* You will want to separate the real and imaginary parts of epsilon into two separate (real) variables.\n",
    "* Your fitting function does not have to have all of its arguments be fit parameters.  If you assign some to fixed values, these can be left alone.  You will need to declare which variable should be allowed to be adjusted by LMfit.\n",
    "* The easiest way to accomplish all of the above is to make a \"wrapper\" function to pass to LMfit that simply calls your model function (after fixing the things above)."
   ]
  },
  {
   "cell_type": "code",
   "execution_count": null,
   "metadata": {},
   "outputs": [],
   "source": [
    "# Create a fit function to build into a model\n",
    "\n",
    "def R_fitter(x, eps_re, eps_im, d, I, N=N_red, wavenum=wavenum_red):\n",
    "    '''\n",
    "    Wrapper for reflectance function to pass to\n",
    "    LMfit Model class.\n",
    "    '''\n",
    "    return I*R(x*np.pi/180.0, epsilon=complex(eps_re,eps_im), d=d, N=N, wavenum=wavenum)\n",
    "\n",
    "## Key statement to pull Model class in.\n",
    "from lmfit import Model\n",
    "\n",
    "## First argument is the function name.  The last argument is \n",
    "#  passed directly to the fitting function and is not adjusted during thefit\n",
    "\n",
    "model_red = Model(R_fitter, param_names=['eps_re','eps_im','d','I'],N=N_red, wavenum=wavenum_red)\n",
    "model_green = Model(R_fitter, param_names=['eps_re','eps_im','d','I'],N=N_green, wavenum=wavenum_green)"
   ]
  },
  {
   "cell_type": "code",
   "execution_count": null,
   "metadata": {},
   "outputs": [],
   "source": [
    "# Make and set the parameters to their starying values\n",
    "# These should be close to what you got with the LabVIEW modeling program\n",
    "\n"
   ]
  },
  {
   "cell_type": "code",
   "execution_count": null,
   "metadata": {},
   "outputs": [],
   "source": [
    "# Run the fit\n",
    "\n",
    "# Print the results\n",
    "\n",
    "# Make a plot\n",
    "\n"
   ]
  },
  {
   "cell_type": "code",
   "execution_count": null,
   "metadata": {},
   "outputs": [],
   "source": []
  }
 ],
 "metadata": {
  "kernelspec": {
   "display_name": "Python 3",
   "language": "python",
   "name": "python3"
  },
  "language_info": {
   "codemirror_mode": {
    "name": "ipython",
    "version": 3
   },
   "file_extension": ".py",
   "mimetype": "text/x-python",
   "name": "python",
   "nbconvert_exporter": "python",
   "pygments_lexer": "ipython3",
   "version": "3.7.3"
  }
 },
 "nbformat": 4,
 "nbformat_minor": 4
}
