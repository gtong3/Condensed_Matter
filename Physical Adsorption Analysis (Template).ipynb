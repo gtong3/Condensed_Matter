{
 "cells": [
  {
   "cell_type": "markdown",
   "metadata": {},
   "source": [
    "# Physical adsorption analysis\n",
    "\n",
    "Use this template as a starting point to carry out the analysis tasks.  For reference, here are links to recommended Python resources: the [Whirlwind Tour of Python](https://jakevdp.github.io/WhirlwindTourOfPython/) and the [Python Data Science Handbook](https://jakevdp.github.io/PythonDataScienceHandbook/) both by Jake VanderPlas.\n",
    "\n",
    "## Standard Packages\n",
    "\n",
    "This is a good idea at the beginning of your notebook to include the packages that you will need.  We will use those shown below here.  A brief description:\n",
    "* `numpy` is the foundational package for Python numerical work. It extends and speeds up array operations beyond standard Python, and it includes almost all math functions that you would need for example `sqrt()` (square root) or `cos()` (cosine).  These would be written in code as `np.sqrt()` or `np.cos()`.\n",
    "* `scipy` is a huge collection of scientific data analysis functions, routines, physicical constants, etc.  This is the second most used package for scientific work. Here we will use the physical constants library, `scipy.constants`.  Documentation is at [SciPy.org](https://docs.scipy.org/doc/scipy/reference/) with the constants subpackage at https://docs.scipy.org/doc/scipy/reference/constants.html.\n",
    "* `uncertainties` is a very useful small package that simplifies uncertainty propagation and printing out of quantities with uncertainty. Documentation is at https://pythonhosted.org/uncertainties/\n",
    "* `matplotlib` is *the* standard plotting package for scientific Python.  We will use a subset called `pyplot` which is modeled after the plotting functions used in MATLAB. The last line below, `%matplotlib inline`, simply forces the plots to appear within the notebook.\n",
    "* `pandas` is a large data science package.  It's main feature is a set of methods to create and manipulate a \"DataFrame,\" which is an enlargement of the idea of an array.  I plays well with NumPy and other packages.  We will use it mainly as a way to read files into data sets in an easy way.\n",
    "* [LMFit](https://lmfit.github.io/lmfit-py/) is excellent for carrying out line and curve fits with many useful features."
   ]
  },
  {
   "cell_type": "markdown",
   "metadata": {},
   "source": [
    "## Getting Help\n",
    "\n",
    "See the example code for a wide range of actions in notebooks created by Prof. Marjorie Olmstead and Prof. David Pengra in this repository: [**Physics431/Examples**](https://github.com/Physics431/Examples).\n",
    "\n",
    "You can pull the examples into your environment with the following command.  (Only do this once, or you will get an error):\n",
    "\n",
    "    git clone https://github.com/Physics431/Examples"
   ]
  },
  {
   "cell_type": "markdown",
   "metadata": {},
   "source": [
    "## Task Summary\n",
    "\n",
    "1. Create a Python code block that will calculate an expected dosing pressure for a next dose, given the current equilibrium pressure, current adsorbed amount, and expected additional adsorbed amount.  Use this code to estimate the dosing pressure for the first 4 data points and check with the instructor or TA to make sure you are ready to start taking data.\n",
    "2. With your software code, set up the ability to make a plot similar to Figure 5 that will allow you to watch the progress of the isotherm as it is created.\n",
    "3. Collect and plot data for the argon isotherm, per the instructions.  Include a table of your pressure measurements before and after each dose along with the calculated adsorbed amount.\n",
    "4. Repeat the procedure to collect and plot data for nitrogen isotherm.  Be careful: the substep will appear between 7 and 9 torr; decrease dose sizes significantly so that you do not miss this feature.\n",
    "5. Determine the monolayer completion volume-STP of the nitrogen floating phase and the argon by using the “point B” method.  You may fit a line to a subset of points in your data, and show this line on the full data set.  Also show the location of “point B” for each set.\n"
   ]
  },
  {
   "cell_type": "code",
   "execution_count": 50,
   "metadata": {},
   "outputs": [],
   "source": [
    "# Usually import packages via a handle to the functions in them using import ... as ...\n",
    "#\n",
    "import numpy as np\n",
    "import matplotlib.pyplot as plt\n",
    "import matplotlib as mpl\n",
    "import pandas as pd\n",
    "import uncertainties as unc\n",
    "%matplotlib inline"
   ]
  },
  {
   "cell_type": "code",
   "execution_count": 51,
   "metadata": {},
   "outputs": [],
   "source": [
    "# Useful plot default\n",
    "mpl.rcParams['figure.figsize'] = 12.0,8.0  # Roughly 12 cm wde by 8 cm high\n",
    "mpl.rcParams['font.size'] = 14.0 # Use 14 point font"
   ]
  },
  {
   "cell_type": "markdown",
   "metadata": {},
   "source": [
    "## Calculate expected dosing\n",
    "\n",
    "Rearrange the formulas giving the coverage amount for each step summarized by the [Number versus Pressure](http://courses.washington.edu/phys431/adsorption/Volume-vs-Pressure_deriv.pdf) calculation to make a formula that predicts the dosing pressure given the sample and calibration volumes $v_s$ and $v_c$, the room temperature $T$ (K), the standard temperature and pressure $T_0 = 273$ K and $P_0 = 760$ torr, and the amount adsorbed in a given step in $V_{STP}$ (in cc).\n",
    "\n",
    "Then make a Python function that calculates this given the input quantities."
   ]
  },
  {
   "cell_type": "code",
   "execution_count": 58,
   "metadata": {},
   "outputs": [],
   "source": [
    "### GLOBAL\n",
    "P_std = 760\n",
    "T_std = 273\n",
    "T_rm = 295\n",
    "v_s = 34.8\n",
    "v_c = 85.1\n",
    "\n",
    "# Create your function here\n",
    "def dose_pressure(V_ads, P_eq):\n",
    "    P_c=np.zeros(len(V_ads)-1)\n",
    "    \n",
    "    for i in range(len(P_c)):\n",
    "        delta_v_ads=V_ads[i+1]-V_ads[i]\n",
    "        P_s_0=P_eq[i]\n",
    "        P_s_f=P_eq[i+1]\n",
    "        P_c[i]=delta_v_ads*(1/v_c)*(P_std*T_rm/T_std)  +  (v_s/v_c)*(P_s_f-P_s_0)  +  P_s_f\n",
    "        \n",
    "    return P_c"
   ]
  },
  {
   "cell_type": "markdown",
   "metadata": {},
   "source": [
    "Read the graph showing example data (Figure 5) and extract the adsorbed amount $V_{\\rm ads}$ versus pressure $P$ for the first 4 or 5 data points.  Feed this data to your function and make a table showing the dosing pressure expected to create those data."
   ]
  },
  {
   "cell_type": "code",
   "execution_count": 92,
   "metadata": {},
   "outputs": [
    {
     "data": {
      "text/html": [
       "<div>\n",
       "<style scoped>\n",
       "    .dataframe tbody tr th:only-of-type {\n",
       "        vertical-align: middle;\n",
       "    }\n",
       "\n",
       "    .dataframe tbody tr th {\n",
       "        vertical-align: top;\n",
       "    }\n",
       "\n",
       "    .dataframe thead th {\n",
       "        text-align: right;\n",
       "    }\n",
       "</style>\n",
       "<table border=\"1\" class=\"dataframe\">\n",
       "  <thead>\n",
       "    <tr style=\"text-align: right;\">\n",
       "      <th></th>\n",
       "      <th>V Adsorbed</th>\n",
       "      <th>Equilibrium Pressure</th>\n",
       "      <th>Dose Pressure</th>\n",
       "    </tr>\n",
       "  </thead>\n",
       "  <tbody>\n",
       "    <tr>\n",
       "      <th>0</th>\n",
       "      <td>2.50</td>\n",
       "      <td>0.30</td>\n",
       "      <td>24.548573</td>\n",
       "    </tr>\n",
       "    <tr>\n",
       "      <th>1</th>\n",
       "      <td>3.70</td>\n",
       "      <td>0.50</td>\n",
       "      <td>12.162215</td>\n",
       "    </tr>\n",
       "    <tr>\n",
       "      <th>2</th>\n",
       "      <td>5.10</td>\n",
       "      <td>0.55</td>\n",
       "      <td>14.080947</td>\n",
       "    </tr>\n",
       "    <tr>\n",
       "      <th>3</th>\n",
       "      <td>6.80</td>\n",
       "      <td>0.60</td>\n",
       "      <td>17.026054</td>\n",
       "    </tr>\n",
       "    <tr>\n",
       "      <th>4</th>\n",
       "      <td>8.50</td>\n",
       "      <td>0.70</td>\n",
       "      <td>17.146501</td>\n",
       "    </tr>\n",
       "    <tr>\n",
       "      <th>5</th>\n",
       "      <td>9.80</td>\n",
       "      <td>0.95</td>\n",
       "      <td>13.597697</td>\n",
       "    </tr>\n",
       "    <tr>\n",
       "      <th>6</th>\n",
       "      <td>10.70</td>\n",
       "      <td>1.90</td>\n",
       "      <td>10.973806</td>\n",
       "    </tr>\n",
       "    <tr>\n",
       "      <th>7</th>\n",
       "      <td>11.20</td>\n",
       "      <td>4.25</td>\n",
       "      <td>10.036166</td>\n",
       "    </tr>\n",
       "    <tr>\n",
       "      <th>8</th>\n",
       "      <td>11.30</td>\n",
       "      <td>5.60</td>\n",
       "      <td>7.117092</td>\n",
       "    </tr>\n",
       "    <tr>\n",
       "      <th>9</th>\n",
       "      <td>11.50</td>\n",
       "      <td>7.80</td>\n",
       "      <td>10.629719</td>\n",
       "    </tr>\n",
       "    <tr>\n",
       "      <th>10</th>\n",
       "      <td>11.70</td>\n",
       "      <td>9.40</td>\n",
       "      <td>11.984361</td>\n",
       "    </tr>\n",
       "    <tr>\n",
       "      <th>11</th>\n",
       "      <td>11.90</td>\n",
       "      <td>10.90</td>\n",
       "      <td>13.443467</td>\n",
       "    </tr>\n",
       "    <tr>\n",
       "      <th>12</th>\n",
       "      <td>11.95</td>\n",
       "      <td>12.60</td>\n",
       "      <td>13.777700</td>\n",
       "    </tr>\n",
       "  </tbody>\n",
       "</table>\n",
       "</div>"
      ],
      "text/plain": [
       "    V Adsorbed  Equilibrium Pressure  Dose Pressure\n",
       "0         2.50                  0.30      24.548573\n",
       "1         3.70                  0.50      12.162215\n",
       "2         5.10                  0.55      14.080947\n",
       "3         6.80                  0.60      17.026054\n",
       "4         8.50                  0.70      17.146501\n",
       "5         9.80                  0.95      13.597697\n",
       "6        10.70                  1.90      10.973806\n",
       "7        11.20                  4.25      10.036166\n",
       "8        11.30                  5.60       7.117092\n",
       "9        11.50                  7.80      10.629719\n",
       "10       11.70                  9.40      11.984361\n",
       "11       11.90                 10.90      13.443467\n",
       "12       11.95                 12.60      13.777700"
      ]
     },
     "execution_count": 92,
     "metadata": {},
     "output_type": "execute_result"
    }
   ],
   "source": [
    "# Create arrays to hold the extracted results\n",
    "V_ads = np.array([0, 2.5, 3.7, 5.1, 6.8, 8.5, 9.8, 10.7, 11.2, 11.3, 11.5, 11.7, 11.9, 11.95])\n",
    "P_eq = np.array([0, 0.3, 0.5, 0.55, 0.6, 0.7, 0.95, 1.9, 4.25, 5.6, 7.8, 9.4, 10.9, 12.6])\n",
    "\n",
    "P_c = dose_pressure(V_ads, P_eq)\n",
    "\n",
    "# Feed the arrays to your function above, and print a table\n",
    "df = pd.DataFrame({'V Adsorbed': V_ads[1:], 'Equilibrium Pressure': P_eq[1:], 'Dose Pressure': P_c})\n",
    "df"
   ]
  },
  {
   "cell_type": "markdown",
   "metadata": {},
   "source": [
    "Check with the instructor or TA to make sure your calculation is correct before starting to dosing procedure."
   ]
  },
  {
   "cell_type": "markdown",
   "metadata": {},
   "source": [
    "## Set up data plotting\n",
    "\n",
    "Create another function that will use your initial and final pressure for each point, along with the system parameters (volumes, room temperature) to plot a graph of your data similar to Figure 5 as you collect the data. "
   ]
  },
  {
   "cell_type": "code",
   "execution_count": 93,
   "metadata": {},
   "outputs": [
    {
     "data": {
      "image/png": "[encoded data removed]",
      "text/plain": [
       "<Figure size 1200x800 with 1 Axes>"
      ]
     },
     "metadata": {},
     "output_type": "display_data"
    }
   ],
   "source": [
    "# Create your function here\n",
    "def calc_v_ads(P_eq, P_c):\n",
    "    V_ads = np.zeros(len(P_eq))\n",
    "    \n",
    "    for i in range(len(P_c)):\n",
    "        delta_P_s = P_eq[i+1]-P_eq[i]\n",
    "        delta_P_c = P_eq[i+1]-P_c[i]\n",
    "        delta_v_ads = -(T_std/(P_std*T_rm)) * (v_s*delta_P_s + v_c*delta_P_c)\n",
    "        V_ads[i+1] = V_ads[i] + delta_v_ads\n",
    "\n",
    "    return V_ads\n",
    "\n",
    "V_ads = calc_v_ads(P_eq, P_c)\n",
    "\n",
    "plt.scatter(P_eq, V_ads)\n",
    "plt.xlim(0, 14)\n",
    "plt.ylim(0, 13)\n",
    "plt.show()"
   ]
  },
  {
   "cell_type": "code",
   "execution_count": 109,
   "metadata": {},
   "outputs": [
    {
     "data": {
      "image/png": "[encoded data removed]",
      "text/plain": [
       "<Figure size 1200x800 with 1 Axes>"
      ]
     },
     "metadata": {},
     "output_type": "display_data"
    }
   ],
   "source": [
    "# Ar data\n",
    "P_c = np.array([24.446, 12.20, 14.07, 17.16, 17.14, 13.44])\n",
    "P_eq = np.array([0, 0.3, 0.36, 0.37, 0.58, 0.97, 3.0])\n",
    "\n",
    "V_ads = calc_v_ads(P_eq, P_c)\n",
    "\n",
    "plt.scatter(P_eq, V_ads)\n",
    "plt.xlim(0, 14)\n",
    "plt.ylim(0, 13)\n",
    "plt.show()"
   ]
  },
  {
   "cell_type": "markdown",
   "metadata": {},
   "source": [
    "Recommended: open a spreadsheet to save the data to a separate file.  Then read in the spreadsheet with Pandas `pd.read_csv()`:\n",
    "    \n",
    "    Ar_data = pd.read_csv('Ar_adsorption_data.csv')\n"
   ]
  },
  {
   "cell_type": "code",
   "execution_count": null,
   "metadata": {},
   "outputs": [],
   "source": [
    "# Read in the data and print the datafame\n"
   ]
  },
  {
   "cell_type": "markdown",
   "metadata": {},
   "source": [
    "Build another dataframe from your function and the final pressure at each dose."
   ]
  },
  {
   "cell_type": "code",
   "execution_count": null,
   "metadata": {},
   "outputs": [],
   "source": [
    "# Make a results dataframe from the calculation and pressure values\n"
   ]
  },
  {
   "cell_type": "markdown",
   "metadata": {},
   "source": [
    "#### Make a plot\n",
    "\n",
    "Plot the adsorbed amount $V_{\\rm ads}$ versus pressure $P$"
   ]
  },
  {
   "cell_type": "code",
   "execution_count": null,
   "metadata": {},
   "outputs": [],
   "source": [
    "# See the examples for making a plot.\n"
   ]
  },
  {
   "cell_type": "markdown",
   "metadata": {},
   "source": [
    "Repeat the above cells to build your plot as you go:\n",
    "1. Calculate the dose\n",
    "2. Carry out the dosing for that step:\n",
    "    * Record the initial pressure in the spreadsheet\n",
    "    * Measure and record the final pressure in the spreadsheet\n",
    "4. Read in the sheet and calculate the adsorbed amount\n",
    "5. Plot the whole data set\n"
   ]
  },
  {
   "cell_type": "markdown",
   "metadata": {},
   "source": [
    "## Save your data\n",
    "\n",
    "After you have completed the data run, save your dataframe with the adsorbed amount versus final pressure to another spreadsheet file.  Use the method `to_csv()`.  If the dataframe is called `Ar_results`, then \n",
    "\n",
    "    Ar_results.to_csv('Argon_isotherm.csv', index=False)\n",
    "    \n",
    "will make a simple spreadsheet file.  (`index=False` suppresses an index column which is not needed here.)"
   ]
  },
  {
   "cell_type": "code",
   "execution_count": null,
   "metadata": {},
   "outputs": [],
   "source": [
    "# save your results\n"
   ]
  },
  {
   "cell_type": "markdown",
   "metadata": {},
   "source": [
    "## Repeat for nitrogen\n",
    "\n",
    "Repeat he above steps for the nitrogen isotherm.  You do not need to redo the expected dosing calculation, unless you want."
   ]
  },
  {
   "cell_type": "code",
   "execution_count": null,
   "metadata": {},
   "outputs": [],
   "source": [
    "# read in the data and print the datafame\n"
   ]
  },
  {
   "cell_type": "code",
   "execution_count": null,
   "metadata": {},
   "outputs": [],
   "source": [
    "# Make a results dataframe from the calculation and pressure values\n"
   ]
  },
  {
   "cell_type": "code",
   "execution_count": null,
   "metadata": {},
   "outputs": [],
   "source": [
    "# Make a plot\n"
   ]
  },
  {
   "cell_type": "code",
   "execution_count": null,
   "metadata": {},
   "outputs": [],
   "source": [
    "# Save the final results\n"
   ]
  },
  {
   "cell_type": "markdown",
   "metadata": {},
   "source": [
    "## Use 'Point B' method to find monolayer coverage\n",
    "\n",
    "The 'point B' method is a standardized way to estimate the monolayer coverage.  One fits the data points along the top of the step that are mostly linear in pressure.  The point at which this line intersects the knee of the curve is considered point \"B\". (Point \"A\" would be where the line intersects the y axis).\n",
    "\n",
    "Use LMfit.  An example is sketched below.\n",
    "\n",
    "Then fit the line to a slice of the data that is the linear portion.  Plot the line on the isotherm, and estimate the line's intersection with the knee by eye.  \n",
    "\n",
    "Use the line parameters to calculate the coverage at the knee."
   ]
  },
  {
   "cell_type": "code",
   "execution_count": null,
   "metadata": {},
   "outputs": [],
   "source": [
    "# Set  up the Model\n",
    "\n",
    "# Import the Linear model.\n",
    "# You only do this once in a notebook\n",
    "from lmfit.models import LinearModel\n",
    "\n",
    "# create an instance of the model\n",
    "# You only need to do this once\n",
    "line = LinearModel()\n"
   ]
  },
  {
   "cell_type": "code",
   "execution_count": null,
   "metadata": {},
   "outputs": [],
   "source": [
    "# Argon first\n",
    "#\n",
    "\n",
    "# Select a \"slice\" of the data set from the results\n",
    "#\n",
    "# Here is an example\n",
    "indices = list(range(3,9))\n",
    "x_data = Ar_results['Pressure (torr)'][indices]\n",
    "y_data = Ar_results['Coverage (cc-STP)'][indices]\n",
    "\n",
    "# Get starting parameters\n",
    "Ar_params = line.guess(y_data, x=x_data)\n",
    "\n",
    "# Feed these into the fitter and run it.\n",
    "Ar_fit = line.fit(y_data, Ar_params, x=x_data)\n",
    "\n",
    "# Print the results\n",
    "Ar_fit"
   ]
  },
  {
   "cell_type": "code",
   "execution_count": null,
   "metadata": {},
   "outputs": [],
   "source": [
    "# Make a plot with the line included\n",
    "# To include the line evaluated across the whole data set, use the eval() method, like this:\n",
    "# \n",
    "plt.plot(Ar_results['Pressure (torr)'],Ar_fit.eval(x=Ar_results['Pressure (torr)']),'-',label='Point B line')\n",
    "# Add in he rest of the plot commands here, including the data.\n",
    "#\n"
   ]
  },
  {
   "cell_type": "markdown",
   "metadata": {},
   "source": [
    "### Evaluate the coverage at point 'B'\n",
    "\n",
    "By eye from the plot, locate where the knee of the data, approximately, intersects the line (or begins to deviat away from it significantly).\n",
    "\n",
    "Use the `eval()` method to obtain the coverage.\n",
    "\n",
    "Then estimate an uncertainty for point B, and use eval to estimate an uncertainty in the coverage.  Assemble the result into an uncertainty object.\n"
   ]
  },
  {
   "cell_type": "code",
   "execution_count": null,
   "metadata": {},
   "outputs": [],
   "source": [
    "# You code this\n"
   ]
  },
  {
   "cell_type": "markdown",
   "metadata": {},
   "source": [
    "### Repeat for the nitrogen isotherm\n",
    "\n",
    "You know what to do now.  Avoid the substep in your slice selection.\n"
   ]
  },
  {
   "cell_type": "code",
   "execution_count": null,
   "metadata": {},
   "outputs": [],
   "source": [
    "# Argon first\n",
    "#\n",
    "\n",
    "# Select a \"slice\" of the data set from the results\n",
    "#\n",
    "\n",
    "# Get starting parameters\n",
    "\n",
    "# Feed these into the fitter and run it.\n",
    "\n",
    "# Print the results\n"
   ]
  },
  {
   "cell_type": "code",
   "execution_count": null,
   "metadata": {},
   "outputs": [],
   "source": [
    "# Make a plot with the line included\n",
    "# To include the line evaluated across the whole data set, use the eval() method, like this:\n",
    "# "
   ]
  },
  {
   "cell_type": "code",
   "execution_count": null,
   "metadata": {},
   "outputs": [],
   "source": [
    "# Evaluate the coverage at point B and its uncertainty\n"
   ]
  },
  {
   "cell_type": "markdown",
   "metadata": {},
   "source": [
    "## Recommended: Complete the other calculations in this notebook\n",
    "\n",
    "These are\n",
    "* Extract the coverage at the top of the nitrogen isotherm substep and calculate the surface area of the graphite.\n",
    "* Use the area to calculate the unit cell size of the argon monolayer.\n",
    "* Look up the bulk unit cell of solid argon (fcc structure) and determine the atomic spacing.\n",
    "* Evaluate the energy minimum of the Lennard-Jones potential, and estimate the equlibrium spacing from the constants given.\n",
    "* Make a small table to compare the three different spacing of Ar atoms in different cases: in 3D bulk, in the adsorbed monolayer, and in a simple pair from the L-J potential."
   ]
  },
  {
   "cell_type": "code",
   "execution_count": null,
   "metadata": {},
   "outputs": [],
   "source": [
    "# Add code cells as needed."
   ]
  },
  {
   "cell_type": "code",
   "execution_count": null,
   "metadata": {},
   "outputs": [],
   "source": []
  },
  {
   "cell_type": "code",
   "execution_count": null,
   "metadata": {},
   "outputs": [],
   "source": []
  }
 ],
 "metadata": {
  "kernelspec": {
   "display_name": "Python 3 (ipykernel)",
   "language": "python",
   "name": "python3"
  },
  "language_info": {
   "codemirror_mode": {
    "name": "ipython",
    "version": 3
   },
   "file_extension": ".py",
   "mimetype": "text/x-python",
   "name": "python",
   "nbconvert_exporter": "python",
   "pygments_lexer": "ipython3",
   "version": "3.10.13"
  }
 },
 "nbformat": 4,
 "nbformat_minor": 4
}
